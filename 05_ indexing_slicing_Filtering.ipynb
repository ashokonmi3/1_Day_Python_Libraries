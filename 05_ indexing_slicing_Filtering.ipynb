{
 "cells": [
  {
   "cell_type": "markdown",
   "id": "b70c1a56",
   "metadata": {},
   "source": [
    "# 🐼 Pandas DataFrame Basics with Examples\n",
    "\n",
    "This notebook will cover:\n",
    "- What is a DataFrame?\n",
    "- Creating DataFrames from different sources\n",
    "- Indexing columns and rows\n",
    "- Slicing rows and columns\n",
    "- Filtering data based on conditions\n",
    "- Multiple examples with clear comments\n",
    "- Practice tasks for students\n",
    "- Simple MCQs with answers\n",
    "\n",
    "---\n",
    "\n",
    "Let's start!"
   ]
  },
  {
   "cell_type": "code",
   "execution_count": 2,
   "id": "6836908d",
   "metadata": {},
   "outputs": [],
   "source": [
    "# Import pandas library\n",
    "import pandas as pd"
   ]
  },
  {
   "cell_type": "markdown",
   "id": "0261caa5",
   "metadata": {},
   "source": [
    "## 1️⃣ What is a DataFrame?\n",
    "\n",
    "- A DataFrame is a two-dimensional, table-like data structure.\n",
    "- It has rows and columns just like an Excel spreadsheet.\n",
    "- Useful for storing and manipulating structured data.\n",
    "\n",
    "Example: Think of a list of students with their names, ages, and cities."
   ]
  },
  {
   "cell_type": "markdown",
   "id": "7c26a350",
   "metadata": {},
   "source": [
    "## 2️⃣ Creating DataFrames\n",
    "\n",
    "**Example 1: Creating from a Python dictionary**"
   ]
  },
  {
   "cell_type": "code",
   "execution_count": 3,
   "id": "b0f87677",
   "metadata": {},
   "outputs": [
    {
     "name": "stdout",
     "output_type": "stream",
     "text": [
      "DataFrame created from dictionary:\n",
      "      Name  Age     City\n",
      "0    Alice   24    Delhi\n",
      "1      Bob   27   Mumbai\n",
      "2  Charlie   22  Chennai\n",
      "3    David   32  Kolkata\n"
     ]
    }
   ],
   "source": [
    "# Create DataFrame from dictionary\n",
    "data = {\n",
    "    'Name': ['Alice', 'Bob', 'Charlie', 'David'],\n",
    "    'Age': [24, 27, 22, 32],\n",
    "    'City': ['Delhi', 'Mumbai', 'Chennai', 'Kolkata']\n",
    "}\n",
    "df = pd.DataFrame(data)\n",
    "print(\"DataFrame created from dictionary:\")\n",
    "print(df)"
   ]
  },
  {
   "cell_type": "markdown",
   "id": "171db16d",
   "metadata": {},
   "source": [
    "**Example 2: Creating from a list of lists with column names**"
   ]
  },
  {
   "cell_type": "code",
   "execution_count": 4,
   "id": "52953fb9",
   "metadata": {},
   "outputs": [
    {
     "name": "stdout",
     "output_type": "stream",
     "text": [
      "DataFrame created from list of lists:\n",
      "      Name  Age     City\n",
      "0    Alice   24    Delhi\n",
      "1      Bob   27   Mumbai\n",
      "2  Charlie   22  Chennai\n",
      "3    David   32  Kolkata\n"
     ]
    }
   ],
   "source": [
    "# Data as list of lists\n",
    "data_list = [\n",
    "    ['Alice', 24, 'Delhi'],\n",
    "    ['Bob', 27, 'Mumbai'],\n",
    "    ['Charlie', 22, 'Chennai'],\n",
    "    ['David', 32, 'Kolkata']\n",
    "]\n",
    "# Creating DataFrame with column names\n",
    "df2 = pd.DataFrame(data_list, columns=['Name', 'Age', 'City'])\n",
    "print(\"DataFrame created from list of lists:\")\n",
    "print(df2)"
   ]
  },
  {
   "cell_type": "markdown",
   "id": "efed5a95",
   "metadata": {},
   "source": [
    "## 3️⃣ Indexing Columns and Rows\n",
    "\n",
    "### Accessing columns:\n",
    "- Use `df['column_name']` or `df.column_name` (simple case)\n",
    "- Returns a pandas Series (a single column)"
   ]
  },
  {
   "cell_type": "code",
   "execution_count": null,
   "id": "0839171a",
   "metadata": {},
   "outputs": [],
   "source": [
    "# Access 'Name' column\n",
    "names = df['Name']  # returns Series\n",
    "print(\"Names column:\")\n",
    "print(names)\n",
    "\n",
    "# Alternative syntax (only if column name has no spaces)\n",
    "print(\"Names using dot notation:\")\n",
    "print(df.Name)"
   ]
  },
  {
   "cell_type": "markdown",
   "id": "68bf890d",
   "metadata": {},
   "source": [
    "### Access multiple columns using a list of column names"
   ]
  },
  {
   "cell_type": "code",
   "execution_count": null,
   "id": "56f62114",
   "metadata": {},
   "outputs": [],
   "source": [
    "# Select 'Name' and 'City' columns\n",
    "name_city = df[['Name', 'City']]\n",
    "print(\"Name and City columns:\")\n",
    "print(name_city)"
   ]
  },
  {
   "cell_type": "markdown",
   "id": "716cac5a",
   "metadata": {},
   "source": [
    "### Accessing rows:\n",
    "- Use `.iloc[]` for position-based indexing (like lists)\n",
    "- Use `.loc[]` for label-based indexing (based on index labels)"
   ]
  },
  {
   "cell_type": "code",
   "execution_count": null,
   "id": "08decde2",
   "metadata": {},
   "outputs": [],
   "source": [
    "# Get first row by position\n",
    "first_row = df.iloc[0]\n",
    "print(\"First row using iloc:\")\n",
    "print(first_row)\n",
    "\n",
    "# Get rows by label index (here default index 0,1,...)\n",
    "rows_1_to_2 = df.loc[1:2]  # includes row 2\n",
    "print(\"Rows with label 1 to 2 using loc:\")\n",
    "print(rows_1_to_2)"
   ]
  },
  {
   "cell_type": "markdown",
   "id": "985d45f6",
   "metadata": {},
   "source": [
    "## 4️⃣ Slicing DataFrames\n",
    "\n",
    "- Like Python lists, you can slice rows using `:`\n",
    "- Slicing columns works using column names and `.loc`"
   ]
  },
  {
   "cell_type": "code",
   "execution_count": null,
   "id": "4b3afcf9",
   "metadata": {},
   "outputs": [],
   "source": [
    "# First 3 rows\n",
    "print(\"First 3 rows:\")\n",
    "print(df[:3])\n",
    "\n",
    "# Last 2 rows\n",
    "print(\"Last 2 rows:\")\n",
    "print(df[-2:])"
   ]
  },
  {
   "cell_type": "markdown",
   "id": "62f644db",
   "metadata": {},
   "source": [
    "### Slice specific rows and columns using `.loc` and `.iloc`"
   ]
  },
  {
   "cell_type": "code",
   "execution_count": null,
   "id": "99c9a65a",
   "metadata": {},
   "outputs": [],
   "source": [
    "# Rows 1 to 3 (inclusive), columns 'Name' and 'Age'\n",
    "print(\"Using loc for slicing rows and columns:\")\n",
    "print(df.loc[1:3, ['Name', 'Age']])\n",
    "\n",
    "# Using iloc (position based): rows 0 to 2, columns 0 and 1\n",
    "print(\"Using iloc for slicing rows and columns:\")\n",
    "print(df.iloc[0:3, 0:2])"
   ]
  },
  {
   "cell_type": "markdown",
   "id": "dfaa70d4",
   "metadata": {},
   "source": [
    "## 5️⃣ Filtering Data\n",
    "\n",
    "- Extract rows where a condition is true.\n",
    "- Use boolean expressions inside the DataFrame `[]`."
   ]
  },
  {
   "cell_type": "code",
   "execution_count": null,
   "id": "ac478c31",
   "metadata": {},
   "outputs": [],
   "source": [
    "# Filter rows where Age > 25\n",
    "age_above_25 = df[df['Age'] > 25]\n",
    "print(\"Rows where Age > 25:\")\n",
    "print(age_above_25)\n",
    "\n",
    "# Filter rows where City is 'Mumbai'\n",
    "city_mumbai = df[df['City'] == 'Mumbai']\n",
    "print(\"Rows where City is Mumbai:\")\n",
    "print(city_mumbai)"
   ]
  },
  {
   "cell_type": "markdown",
   "id": "ca61be88",
   "metadata": {},
   "source": [
    "### Filtering with multiple conditions (AND / OR)"
   ]
  },
  {
   "cell_type": "code",
   "execution_count": null,
   "id": "15179de5",
   "metadata": {},
   "outputs": [],
   "source": [
    "# AND condition: Age > 25 AND City is Mumbai\n",
    "age_and_city = df[(df['Age'] > 25) & (df['City'] == 'Mumbai')]\n",
    "print(\"Rows where Age > 25 AND City is Mumbai:\")\n",
    "print(age_and_city)\n",
    "\n",
    "# OR condition: Age < 23 OR City is Kolkata\n",
    "age_or_city = df[(df['Age'] < 23) | (df['City'] == 'Kolkata')]\n",
    "print(\"Rows where Age < 23 OR City is Kolkata:\")\n",
    "print(age_or_city)"
   ]
  },
  {
   "cell_type": "markdown",
   "id": "fb476dda",
   "metadata": {},
   "source": [
    "## 6️⃣ Bonus: Adding a new column\n",
    "\n",
    "You can add new columns based on existing data."
   ]
  },
  {
   "cell_type": "code",
   "execution_count": null,
   "id": "ee023387",
   "metadata": {},
   "outputs": [],
   "source": [
    "# Adding a new column 'Age Group' based on Age\n",
    "df['Age Group'] = ['Young' if age < 30 else 'Old' for age in df['Age']]\n",
    "print(\"DataFrame with new 'Age Group' column:\")\n",
    "print(df)"
   ]
  },
  {
   "cell_type": "markdown",
   "id": "100568b7",
   "metadata": {},
   "source": [
    "---\n",
    "## 🎯 Student Practice Tasks\n",
    "Try to solve these problems yourself:\n",
    "1. Create a DataFrame with columns: `Product`, `Price`, `Quantity` for 4 products.\n",
    "2. Select only the `Price` column.\n",
    "3. Slice the DataFrame to show the first 2 rows.\n",
    "4. Filter products where Price > 150.\n",
    "5. Add a new column `Total Cost` = Price * Quantity.\n",
    "6. Filter products with `Total Cost` greater than 300.\n",
    "\n",
    "---"
   ]
  },
  {
   "cell_type": "markdown",
   "id": "f5afd10f",
   "metadata": {},
   "source": [
    "## ❓ MCQs (Multiple Choice Questions)\n",
    "\n",
    "**Q1: How do you select the column 'Age' from the DataFrame?**\n",
    "a) df.Age\n",
    "b) df['Age']\n",
    "c) Both a and b\n",
    "d) None of the above\n",
    "\n",
    "**Answer:** c) Both a and b\n",
    "\n",
    "**Q2: Which method is used for position-based row selection?**\n",
    "a) .loc\n",
    "b) .iloc\n",
    "c) []\n",
    "d) .select\n",
    "\n",
    "**Answer:** b) .iloc\n",
    "\n",
    "**Q3: How do you filter rows where Age is greater than 30?**\n",
    "a) df[df.Age > 30]\n",
    "b) df[df['Age'] > 30]\n",
    "c) Both a and b\n",
    "d) None of the above\n",
    "\n",
    "**Answer:** c) Both a and b\n"
   ]
  }
 ],
 "metadata": {
  "kernelspec": {
   "display_name": "Python 3",
   "language": "python",
   "name": "python3"
  },
  "language_info": {
   "codemirror_mode": {
    "name": "ipython",
    "version": 3
   },
   "file_extension": ".py",
   "mimetype": "text/x-python",
   "name": "python",
   "nbconvert_exporter": "python",
   "pygments_lexer": "ipython3",
   "version": "3.10.8"
  }
 },
 "nbformat": 4,
 "nbformat_minor": 5
}
