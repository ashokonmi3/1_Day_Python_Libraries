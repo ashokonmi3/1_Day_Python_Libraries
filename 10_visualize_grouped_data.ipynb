{
 "cells": [
  {
   "cell_type": "markdown",
   "metadata": {},
   "source": [
    "# 📊 Visualizing Grouped Data Using Matplotlib\n",
    "\n",
    "## 📚 Theory: What is grouped data and why visualize it?\n",
    "\n",
    "- **Grouped data** means data that is organized by categories or groups. For example, sales by product category or scores by class.\n",
    "- Visualization helps us see patterns, differences, or trends across groups.\n",
    "- Common plots to visualize grouped data include:\n",
    "  - Bar plots (for comparing group sizes or sums)\n",
    "  - Pie charts (for showing proportions)\n",
    "  - Box plots (for showing distribution per group)\n",
    "- We will focus mainly on bar plots for grouped data here.\n",
    "\n",
    "Let's see how to create and customize grouped bar charts in matplotlib! 🛠️"
   ]
  },
  {
   "cell_type": "markdown",
   "metadata": {},
   "source": [
    "## 1️⃣ Simple Grouped Bar Plot\n",
    "\n",
    "- Imagine you have sales data for two products over 3 months.\n",
    "- We want to visualize sales side by side to compare.\n",
    "\n",
    "### Example:"
   ]
  },
  {
   "cell_type": "code",
   "metadata": {},
   "source": [
    "import matplotlib.pyplot as plt\n",
    "import numpy as np\n",
    "\n",
    "# Data\n",
    "months = ['Jan', 'Feb', 'Mar']\n",
    "sales_product_A = [20, 35, 30]\n",
    "sales_product_B = [25, 32, 34]\n",
    "\n",
    "# Number of groups\n",
    "n_groups = len(months)\n",
    "\n",
    "# Positions on x-axis\n",
    "index = np.arange(n_groups)  # [0,1,2]\n",
    "bar_width = 0.35  # width of each bar\n",
    "\n",
    "# Create plot\n",
    "fig, ax = plt.subplots()\n",
    "\n",
    "# Bars for product A\n",
    "bars1 = ax.bar(index, sales_product_A, bar_width, label='Product A', color='skyblue')\n",
    "\n",
    "# Bars for product B, shifted by bar_width\n",
    "bars2 = ax.bar(index + bar_width, sales_product_B, bar_width, label='Product B', color='salmon')\n",
    "\n",
    "# Add labels and title\n",
    "ax.set_xlabel('Month')\n",
    "ax.set_ylabel('Sales (units)')\n",
    "ax.set_title('Monthly Sales Comparison')\n",
    "ax.set_xticks(index + bar_width / 2)\n",
    "ax.set_xticklabels(months)\n",
    "\n",
    "# Show legend\n",
    "ax.legend()\n",
    "\n",
    "plt.show()"
   ]
  },
  {
   "cell_type": "markdown",
   "metadata": {},
   "source": [
    "**Explanation:**\n",
    "- We create side-by-side bars for each month by shifting the x positions.\n",
    "- `np.arange()` creates positions `[0,1,2]` for bars.\n",
    "- Bar width controls how wide each bar is.\n",
    "- `ax.set_xticks` and `ax.set_xticklabels` label the x-axis with months.\n",
    "- Legend explains which bar color belongs to which product."
   ]
  },
  {
   "cell_type": "markdown",
   "metadata": {},
   "source": [
    "## 2️⃣ Grouped Bar Plot with Multiple Groups\n",
    "\n",
    "You can extend this idea for more groups.\n",
    "\n",
    "### Example: Sales of 3 products over 4 quarters"
   ]
  },
  {
   "cell_type": "code",
   "metadata": {},
   "source": [
    "# Data\n",
    "quarters = ['Q1', 'Q2', 'Q3', 'Q4']\n",
    "sales_A = [20, 35, 30, 35]\n",
    "sales_B = [25, 32, 34, 20]\n",
    "sales_C = [30, 22, 40, 25]\n",
    "\n",
    "n_groups = len(quarters)\n",
    "index = np.arange(n_groups)\n",
    "bar_width = 0.25\n",
    "\n",
    "fig, ax = plt.subplots()\n",
    "\n",
    "# Bars for each product\n",
    "bars1 = ax.bar(index, sales_A, bar_width, label='Product A', color='lightblue')\n",
    "bars2 = ax.bar(index + bar_width, sales_B, bar_width, label='Product B', color='lightgreen')\n",
    "bars3 = ax.bar(index + 2*bar_width, sales_C, bar_width, label='Product C', color='lightcoral')\n",
    "\n",
    "# Labels and title\n",
    "ax.set_xlabel('Quarter')\n",
    "ax.set_ylabel('Sales (units)')\n",
    "ax.set_title('Quarterly Sales of Products')\n",
    "ax.set_xticks(index + bar_width)\n",
    "ax.set_xticklabels(quarters)\n",
    "\n",
    "ax.legend()\n",
    "\n",
    "plt.show()"
   ]
  },
  {
   "cell_type": "markdown",
   "metadata": {},
   "source": [
    "**Explanation:**\n",
    "- Bars for each product shifted by multiples of `bar_width`.\n",
    "- `set_xticks` placed at center of grouped bars.\n",
    "- Different colors and legend help differentiate products."
   ]
  },
  {
   "cell_type": "markdown",
   "metadata": {},
   "source": [
    "## 3️⃣ Horizontal Grouped Bar Plot\n",
    "\n",
    "- Sometimes horizontal bars are easier to read.\n",
 "\n",
    "### Example:"
   ]
  },
  {
   "cell_type": "code",
   "metadata": {},
   "source": [
    "# Data\n",
    "categories = ['Category 1', 'Category 2', 'Category 3']\n",
    "values_A = [30, 40, 50]\n",
    "values_B = [35, 45, 40]\n",
    "\n",
    "n_groups = len(categories)\n",
    "index = np.arange(n_groups)\n",
    "bar_height = 0.35\n",
    "\n",
    "fig, ax = plt.subplots()\n",
    "\n",
    "# Horizontal bars for A and B\n",
    "bars1 = ax.barh(index, values_A, bar_height, label='Group A', color='lightseagreen')\n",
    "bars2 = ax.barh(index + bar_height, values_B, bar_height, label='Group B', color='orange')\n",
    "\n",
    "# Labels and title\n",
    "ax.set_xlabel('Values')\n",
    "ax.set_ylabel('Category')\n",
    "ax.set_title('Horizontal Grouped Bar Plot')\n",
    "ax.set_yticks(index + bar_height / 2)\n",
    "ax.set_yticklabels(categories)\n",
    "\n",
    "ax.legend()\n",
    "\n",
    "plt.show()"
   ]
  },
  {
   "cell_type": "markdown",
   "metadata": {},
   "source": [
    "**Explanation:**\n",
    "- `barh` is used for horizontal bars.\n",
    "- Bars shifted on y-axis by `bar_height` to place side-by-side.\n",
    "- `set_yticks` and `set_yticklabels` label categories vertically."
   ]
  },
  {
   "cell_type": "markdown",
   "metadata": {},
   "source": [
    "## 🎯 Tasks for Students\n",
    "\n",
    "1. Create a grouped bar plot for sales of 2 products over 6 months.\n",
    "2. Create a horizontal grouped bar plot comparing 3 teams’ scores in 4 games.\n",
    "3. Change colors, add title, axis labels, and legend in your plots.\n",
    "\n",
    "Remember to comment your code! 📝"
   ]
  },
  {
   "cell_type": "markdown",
   "metadata": {},
   "source": [
    "## ✅ MCQs\n",
    "\n",
    "**Q1:** Which matplotlib function is used to create vertical bar plots?\n",
    "- a) `plt.bar()` ✅ ✔️\n",
    "- b) `plt.barh()` ❌\n",
    "- c) `plt.plot()` ❌\n",
    "- d) `plt.scatter()` ❌\n",
    "\n",
    "**Q2:** To place grouped bars side by side, you need to adjust:\n",
    "- a) The bar width only ❌\n",
    "- b) The bar colors ❌\n",
    "- c) The x-axis positions of bars ✅ ✔️\n",
    "- d) The y-axis label ❌\n",
    "\n",
    "**Q3:** What does `ax.legend()` do?\n",
    "- a) Adds axis labels ❌\n",
    "- b) Adds a plot title ❌\n",
    "- c) Displays the explanation of colors and labels ✅ ✔️\n",
    "- d) Changes bar colors ❌\n",
    "\n",
    "**Q4:** Which function creates horizontal bars?\n",
    "- a) `plt.barh()` ✅ ✔️\n",
    "- b) `plt.bar()` ❌\n",
    "- c) `plt.plot()` ❌\n",
    "- d) `plt.scatter()` ❌\n"
   ]
  }
 ],
 "metadata": {
  "kernelspec": {
   "display_name": "Python 3",
   "language": "python",
   "name": "python3"
  },
  "language_info": {
   "name": "python",
   "version": "3.x"
  }
 },
 "nbformat": 4,
 "nbformat_minor": 5
}
