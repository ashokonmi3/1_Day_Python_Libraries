{
 "cells": [
  {
   "cell_type": "markdown",
   "metadata": {},
   "source": [
    "# 📊 Hands-on: Load CSV dataset, Basic Filtering, Data Preview\n",
    "\n",
    "In this session, you will learn how to:\n",
    "- Load a CSV file into a Pandas DataFrame\n",
    "- Preview data to understand its structure\n",
    "- Perform basic filtering on the data\n",
    "\n",
    "This is essential when working with real-world data.\n",
    "\n",
    "---"
   ]
  },
  {
   "cell_type": "markdown",
   "metadata": {},
   "source": [
    "## 1️⃣ What is CSV?\n",
    "- CSV (Comma-Separated Values) is a common file format to store tabular data.\n",
    "- Each line in a CSV represents a row, with columns separated by commas.\n",
    "- It is widely used for exporting and sharing datasets.\n",
    "\n",
    "## 2️⃣ Loading CSV files in Pandas\n",
    "- Use `pd.read_csv()` to load CSV files into a DataFrame.\n",
    "- Make sure the CSV file is in your current working directory or provide the full path."
   ]
  },
  {
   "cell_type": "code",
   "execution_count": 1,
   "metadata": {},
   "outputs": [],
   "source": [
    "# Import pandas\n",
    "import pandas as pd"
   ]
  },
  {
   "cell_type": "markdown",
   "metadata": {},
   "source": [
    "## 3️⃣ Loading sample CSV file\n",
    "\n",
    "Let's load a sample CSV file `sample_data.csv`. It contains columns: `Name`, `Age`, `City`, `Salary`."
   ]
  },
  {
   "cell_type": "code",
   "execution_count": 2,
   "metadata": {},
   "outputs": [
    {
     "name": "stdout",
     "output_type": "stream",
     "text": [
      "First 5 rows of the data:\n",
      "      Name  Age     City  Salary\n",
      "0    Alice   28   Mumbai   45000\n",
      "1      Bob   35    Delhi   52000\n",
      "2  Charlie   22  Chennai   38000\n",
      "3    David   40   Mumbai   60000\n",
      "4      Eva   30    Delhi   48000\n"
     ]
    }
   ],
   "source": [
    "# Load CSV file into DataFrame\n",
    "df = pd.read_csv('sample_data.csv')  # replace with your file path if needed\n",
    "\n",
    "# Show first 5 rows\n",
    "print(\"First 5 rows of the data:\")\n",
    "print(df.head())"
   ]
  },
  {
   "cell_type": "markdown",
   "metadata": {},
   "source": [
    "### Explanation:\n",
    "- `pd.read_csv()` reads the CSV file.\n",
    "- `df.head()` displays the first 5 rows by default (you can specify number like `df.head(10)`).\n",
    "\n",
    "---"
   ]
  },
  {
   "cell_type": "markdown",
   "metadata": {},
   "source": [
    "## 4️⃣ Basic Data Preview\n",
    "\n",
    "You can learn about the data using these commands:"
   ]
  },
  {
   "cell_type": "code",
   "execution_count": 3,
   "metadata": {},
   "outputs": [
    {
     "name": "stdout",
     "output_type": "stream",
     "text": [
      "Shape of the data (rows, columns): (10, 4)\n",
      "Columns in the dataset: ['Name', 'Age', 'City', 'Salary']\n",
      "Summary statistics for numerical data:\n",
      "             Age        Salary\n",
      "count  10.000000     10.000000\n",
      "mean   29.900000  47700.000000\n",
      "std     5.258855   7024.560089\n",
      "min    22.000000  38000.000000\n",
      "25%    27.250000  42750.000000\n",
      "50%    29.500000  47500.000000\n",
      "75%    32.500000  51750.000000\n",
      "max    40.000000  60000.000000\n",
      "Data types of columns:\n",
      "Name      object\n",
      "Age        int64\n",
      "City      object\n",
      "Salary     int64\n",
      "dtype: object\n"
     ]
    }
   ],
   "source": [
    "# Display number of rows and columns\n",
    "print(\"Shape of the data (rows, columns):\", df.shape)\n",
    "\n",
    "# Display column names\n",
    "print(\"Columns in the dataset:\", df.columns.tolist())\n",
    "\n",
    "# Summary statistics for numerical columns\n",
    "print(\"Summary statistics for numerical data:\")\n",
    "print(df.describe())\n",
    "\n",
    "# Display data types of columns\n",
    "print(\"Data types of columns:\")\n",
    "print(df.dtypes)"
   ]
  },
  {
   "cell_type": "markdown",
   "metadata": {},
   "source": [
    "---\n",
    "## 5️⃣ Basic Filtering Examples\n",
    "\n",
    "Filter the data based on conditions, such as Age, Salary, or City."
   ]
  },
  {
   "cell_type": "code",
   "execution_count": 4,
   "metadata": {},
   "outputs": [
    {
     "name": "stdout",
     "output_type": "stream",
     "text": [
      "Rows where Age is greater than 30:\n",
      "    Name  Age    City  Salary\n",
      "1    Bob   35   Delhi   52000\n",
      "3  David   40  Mumbai   60000\n",
      "6  Grace   33  Mumbai   55000\n",
      "9   Jack   31  Mumbai   51000\n",
      "Rows where Salary is greater than 50000:\n",
      "    Name  Age    City  Salary\n",
      "1    Bob   35   Delhi   52000\n",
      "3  David   40  Mumbai   60000\n",
      "6  Grace   33  Mumbai   55000\n",
      "9   Jack   31  Mumbai   51000\n",
      "Rows where City is Delhi:\n",
      "     Name  Age   City  Salary\n",
      "1     Bob   35  Delhi   52000\n",
      "4     Eva   30  Delhi   48000\n",
      "7  Hannah   24  Delhi   39000\n"
     ]
    }
   ],
   "source": [
    "# Filter rows where Age > 30\n",
    "age_above_30 = df[df['Age'] > 30]\n",
    "print(\"Rows where Age is greater than 30:\")\n",
    "print(age_above_30)\n",
    "\n",
    "# Filter rows where Salary is greater than 50000\n",
    "high_salary = df[df['Salary'] > 50000]\n",
    "print(\"Rows where Salary is greater than 50000:\")\n",
    "print(high_salary)\n",
    "\n",
    "# Filter rows where City is 'Delhi'\n",
    "city_delhi = df[df['City'] == 'Delhi']\n",
    "print(\"Rows where City is Delhi:\")\n",
    "print(city_delhi)"
   ]
  },
  {
   "cell_type": "markdown",
   "metadata": {},
   "source": [
    "### Filtering with multiple conditions\n",
    "- Use `&` for AND, `|` for OR conditions.\n",
    "- Use parentheses to group conditions."
   ]
  },
  {
   "cell_type": "code",
   "execution_count": 5,
   "metadata": {},
   "outputs": [
    {
     "name": "stdout",
     "output_type": "stream",
     "text": [
      "Rows where Age > 30 AND Salary > 50000:\n",
      "    Name  Age    City  Salary\n",
      "1    Bob   35   Delhi   52000\n",
      "3  David   40  Mumbai   60000\n",
      "6  Grace   33  Mumbai   55000\n",
      "9   Jack   31  Mumbai   51000\n",
      "Rows where Age < 25 OR City is Mumbai:\n",
      "      Name  Age     City  Salary\n",
      "0    Alice   28   Mumbai   45000\n",
      "2  Charlie   22  Chennai   38000\n",
      "3    David   40   Mumbai   60000\n",
      "6    Grace   33   Mumbai   55000\n",
      "7   Hannah   24    Delhi   39000\n",
      "9     Jack   31   Mumbai   51000\n"
     ]
    }
   ],
   "source": [
    "# Filter rows where Age > 30 AND Salary > 50000\n",
    "filtered_data = df[(df['Age'] > 30) & (df['Salary'] > 50000)]\n",
    "print(\"Rows where Age > 30 AND Salary > 50000:\")\n",
    "print(filtered_data)\n",
    "\n",
    "# Filter rows where Age < 25 OR City is Mumbai\n",
    "filtered_data_or = df[(df['Age'] < 25) | (df['City'] == 'Mumbai')]\n",
    "print(\"Rows where Age < 25 OR City is Mumbai:\")\n",
    "print(filtered_data_or)"
   ]
  },
  {
   "cell_type": "markdown",
   "metadata": {},
   "source": [
    "---\n",
    "## 6️⃣ Task for Students\n",
    "Try these on your own:\n",
    "1. Load a CSV file named `sample_data.csv`.\n",
    "2. Display the first 10 rows.\n",
    "3. Show column names and data types.\n",
    "4. Find all rows where Salary is less than 40000.\n",
    "5. Find all rows where City is either 'Mumbai' or 'Chennai'.\n",
    "6. Filter rows where Age is between 25 and 35 (inclusive).\n",
    "\n",
    "---"
   ]
  },
  {
   "cell_type": "markdown",
   "metadata": {},
   "source": [
    "## 7️⃣ MCQs (Multiple Choice Questions)\n",
    "\n",
    "**Q1:** Which pandas function loads CSV data into a DataFrame?\n",
    "\n",
    "- a) pd.load_csv() ❌\n",
    "- b) pd.read_csv() ✅\n",
    "- c) pd.csv_read() ❌\n",
    "- d) pd.get_csv() ❌\n",
    "\n",
    "---\n",
    "\n",
    "**Q2:** What does `df.head()` show?\n",
    "\n",
    "- a) First 5 rows of the DataFrame ✅\n",
    "- b) Last 5 rows of the DataFrame ❌\n",
    "- c) Summary statistics ❌\n",
    "- d) Data types of columns ❌\n",
    "\n",
    "---\n",
    "\n",
    "**Q3:** How do you filter rows where Age is greater than 30?\n",
    "\n",
    "- a) `df[df['Age'] > 30]` ✅\n",
    "- b) `df[df.Age > 30]` ✅\n",
    "- c) Both a and b ✅\n",
    "- d) None of the above ❌\n",
    "\n",
    "---\n",
    "\n",
    "## ✅ Summary\n",
    "- Loaded a CSV into a DataFrame\n",
    "- Previewed data using `head()`, `shape`, `columns`, and `describe()`\n",
    "- Filtered rows using simple and multiple conditions\n",
    "- Practiced with simple exercises and tested knowledge with MCQs"
   ]
  },
  {
   "cell_type": "markdown",
   "id": "5b3fe0b3",
   "metadata": {},
   "source": []
  }
 ],
 "metadata": {
  "kernelspec": {
   "display_name": "Python 3",
   "language": "python",
   "name": "python3"
  },
  "language_info": {
   "codemirror_mode": {
    "name": "ipython",
    "version": 3
   },
   "file_extension": ".py",
   "mimetype": "text/x-python",
   "name": "python",
   "nbconvert_exporter": "python",
   "pygments_lexer": "ipython3",
   "version": "3.12.0"
  }
 },
 "nbformat": 4,
 "nbformat_minor": 5
}
