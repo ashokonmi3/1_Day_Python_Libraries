{
 "cells": [
  {
   "cell_type": "markdown",
   "id": "b442523f",
   "metadata": {},
   "source": [
    "# 📘 NumPy: Creating Arrays, Data Types, Shapes, and Reshaping\n",
    "\n",
    "## 🎯 Objective\n",
    "\n",
    "Learn the basics of NumPy arrays:\n",
    "- How to create arrays\n",
    "- Understand data types (`dtype`)\n",
    "- Check and manipulate array shapes\n",
    "- Reshape arrays\n",
    "\n",
    "This notebook contains simple explanations and many examples suitable for beginners and non-technical learners."
   ]
  },
  {
   "cell_type": "markdown",
   "id": "25d0d68f",
   "metadata": {},
   "source": [
    "## 🆚 Python List vs `array.array` vs NumPy Array\n",
    "\n",
    "### What are they?\n",
    "- **Python List**: General container, can hold any data type, flexible but slower for math.\n",
    "- **`array.array`**: Standard Python array, stores only one data type, more efficient than list but limited.\n",
    "- **NumPy Array**: Specialized array for scientific computing, fast and efficient with many features.\n",
    "\n",
    "### Why NumPy?\n",
    "- Fast mathematical operations\n",
    "- Efficient memory usage\n",
    "- Supports multi-dimensional arrays\n",
    "- Rich set of functions for data manipulation"
   ]
  },
  {
   "cell_type": "code",
   "execution_count": null,
   "id": "933fb987",
   "metadata": {},
   "outputs": [],
   "source": [
    "import array\n",
    "import numpy as np\n",
    "\n",
    "# Python List\n",
    "py_list = [1, 2, 3, 4]\n",
    "print(\"Python List:\", py_list)\n",
    "\n",
    "# Python array.array (type 'i' for integer)\n",
    "py_array = array.array('i', [1, 2, 3, 4])\n",
    "print(\"Python array.array:\", py_array)\n",
    "\n",
    "# NumPy Array\n",
    "np_array = np.array([1, 2, 3, 4])\n",
    "print(\"NumPy Array:\", np_array)"
   ]
  },
  {
   "cell_type": "markdown",
   "id": "c5b53c5f",
   "metadata": {},
   "source": [
    "### Quick comparison\n",
    "| Feature               | Python List   | `array.array`    | NumPy Array     |\n",
    "|----------------------|---------------|------------------|-----------------|\n",
    "| Mixed data types     | ✅ Yes        | ❌ No             | ❌ No           |\n",
    "| Easy math operations | ❌ No         | ❌ No             | ✅ Yes          |\n",
    "| Speed                | Slow          | Moderate          | ✅ Fast         |\n",
    "| Memory efficient     | ❌ No         | ✅ Yes            | ✅ Yes          |"
   ]
  },
  {
   "cell_type": "markdown",
   "id": "b1b783d2",
   "metadata": {},
   "source": [
    "## ✨ Creating NumPy Arrays\n",
    "\n",
    "You can create NumPy arrays from Python lists or tuples, or use built-in NumPy functions."
   ]
  },
  {
   "cell_type": "code",
   "execution_count": null,
   "id": "9c35e4da",
   "metadata": {},
   "outputs": [],
   "source": [
    "# From Python lists\n",
    "arr_from_list = np.array([10, 20, 30, 40])\n",
    "print(\"Array from list:\", arr_from_list)\n",
    "\n",
    "# From tuples\n",
    "arr_from_tuple = np.array((5, 6, 7))\n",
    "print(\"Array from tuple:\", arr_from_tuple)\n",
    "\n",
    "# From nested lists (2D array)\n",
    "arr_2d = np.array([[1, 2, 3], [4, 5, 6]])\n",
    "print(\"2D Array from nested lists:\\n\", arr_2d)"
   ]
  },
  {
   "cell_type": "markdown",
   "id": "7d56a075",
   "metadata": {},
   "source": [
    "### Using NumPy built-in functions to create arrays quickly"
   ]
  },
  {
   "cell_type": "code",
   "execution_count": null,
   "id": "2acf495a",
   "metadata": {},
   "outputs": [],
   "source": [
    "print(\"Zeros (3x3):\")\n",
    "print(np.zeros((3, 3)))\n",
    "\n",
    "print(\"Ones (2x4):\")\n",
    "print(np.ones((2, 4)))\n",
    "\n",
    "print(\"Full (2x3) with value 7:\")\n",
    "print(np.full((2, 3), 7))\n",
    "\n",
    "print(\"Arange from 0 to 10 step 2:\")\n",
    "print(np.arange(0, 10, 2))\n",
    "\n",
    "print(\"Linspace 0 to 1 with 5 points:\")\n",
    "print(np.linspace(0, 1, 5))\n",
    "\n",
    "print(\"Identity matrix 4x4:\")\n",
    "print(np.eye(4))"
   ]
  },
  {
   "cell_type": "markdown",
   "id": "ad2a58b7",
   "metadata": {},
   "source": [
    "## 🧬 Understanding Data Types (`dtype`)\n",
    "\n",
    "NumPy arrays must have all elements of the **same data type** for speed and efficiency.\n",
    "\n",
    "- Integer types: `int32`, `int64`\n",
    "- Floating point types: `float32`, `float64`\n",
    "- String type: `str` or `U`\n",
    "\n",
    "You can check and specify the data type when creating arrays."
   ]
  },
  {
   "cell_type": "code",
   "execution_count": null,
   "id": "7b699446",
   "metadata": {},
   "outputs": [],
   "source": [
    "arr_int = np.array([1, 2, 3, 4])\n",
    "print(\"arr_int dtype:\", arr_int.dtype)\n",
    "\n",
    "arr_float = np.array([1.1, 2.2, 3.3])\n",
    "print(\"arr_float dtype:\", arr_float.dtype)\n",
    "\n",
    "arr_str = np.array(['apple', 'banana', 'cherry'])\n",
    "print(\"arr_str dtype:\", arr_str.dtype)"
   ]
  },
  {
   "cell_type": "markdown",
   "id": "1bd54d67",
   "metadata": {},
   "source": [
    "### Specifying data types explicitly"
   ]
  },
  {
   "cell_type": "code",
   "execution_count": null,
   "id": "06fffaa6",
   "metadata": {},
   "outputs": [],
   "source": [
    "# Create array of integers but force float type\n",
    "arr = np.array([1, 2, 3, 4], dtype='float64')\n",
    "print(arr)\n",
    "print(\"Data type:\", arr.dtype)\n",
    "\n",
    "# Convert float array to int\n",
    "converted_arr = arr.astype('int32')\n",
    "print(\"Converted to int:\", converted_arr)"
   ]
  },
  {
   "cell_type": "markdown",
   "id": "c65be147",
   "metadata": {},
   "source": [
    "## 📐 Array Shapes\n",
    "\n",
    "Shape is the size along each dimension of an array.\n",
    "\n",
    "- 1D array shape: (number of elements,)\n",
    "- 2D array shape: (rows, columns)\n",
    "- 3D array shape: (depth, rows, columns)\n",
    "\n",
    "Shape tells how data is organized."
   ]
  },
  {
   "cell_type": "code",
   "execution_count": null,
   "id": "a0ee029f",
   "metadata": {},
   "outputs": [],
   "source": [
    "a = np.array([1, 2, 3])\n",
    "b = np.array([[1, 2], [3, 4]])\n",
    "c = np.array([[[1, 2], [3, 4]], [[5, 6], [7, 8]]])\n",
    "\n",
    "print(\"Shape of 1D array a:\", a.shape)\n",
    "print(\"Shape of 2D array b:\", b.shape)\n",
    "print(\"Shape of 3D array c:\", c.shape)"
   ]
  },
  {
   "cell_type": "markdown",
   "id": "2fd6b083",
   "metadata": {},
   "source": [
    "## 🔄 Reshaping Arrays\n",
    "\n",
    "Reshape means changing the shape of an array without changing its data.\n",
    "\n",
    "The number of elements must remain the same."
   ]
  },
  {
   "cell_type": "code",
   "execution_count": null,
   "id": "81e90de0",
   "metadata": {},
   "outputs": [],
   "source": [
    "arr = np.arange(12)  # 0 to 11\n",
    "print(\"Original array:\", arr)\n",
    "\n",
    "# Reshape to 3 rows, 4 columns\n",
    "reshaped_2d = arr.reshape((3, 4))\n",
    "print(\"Reshaped to 3x4:\\n\", reshaped_2d)\n",
    "\n",
    "# Reshape to 2x2x3 (3D)\n",
    "reshaped_3d = arr.reshape((2, 2, 3))\n",
    "print(\"Reshaped to 3D (2x2x3):\\n\", reshaped_3d)"
   ]
  },
  {
   "cell_type": "markdown",
   "id": "eb123f99",
   "metadata": {},
   "source": [
    "### Flattening an array\n",
    "\n",
    "Flatten converts a multi-dimensional array into a 1D array."
   ]
  },
  {
   "cell_type": "code",
   "execution_count": null,
   "id": "a63bfee6",
   "metadata": {},
   "outputs": [],
   "source": [
    "matrix = np.array([[1, 2, 3], [4, 5, 6]])\n",
    "flat = matrix.flatten()\n",
    "print(\"Original matrix:\\n\", matrix)\n",
    "print(\"Flattened array:\", flat)"
   ]
  },
  {
   "cell_type": "markdown",
   "id": "9684e361",
   "metadata": {},
   "source": [
    "## ✅ Practice Tasks\n",
    "\n",
    "Try these tasks on your own to check your understanding."
   ]
  },
  {
   "cell_type": "markdown",
   "id": "3cda1669",
   "metadata": {},
   "source": [
    "1. Create a 4x4 NumPy array filled with the value 7.\n",
    "2. Create an array of integers from 10 to 50, stepping by 5.\n",
    "3. Convert the array `[1.5, 2.3, 3.7]` to integer type.\n",
    "4. Create a 2D array from `[[1, 2, 3], [4, 5, 6]]` and find its shape.\n",
    "5. Reshape the array `[1, 2, 3, 4, 5, 6]` into a 3x2 array.\n",
    "6. Flatten a 3x3 identity matrix.\n",
    "\n",
    "---"
   ]
  },
  {
   "cell_type": "markdown",
   "id": "091059bb",
   "metadata": {},
   "source": [
    "### Solutions"
   ]
  },
  {
   "cell_type": "code",
   "execution_count": null,
   "id": "9284ce43",
   "metadata": {},
   "outputs": [],
   "source": [
    "# 1. 4x4 array filled with 7\n",
    "task1 = np.full((4, 4), 7)\n",
    "print(\"Task 1:\\n\", task1)\n",
    "\n",
    "# 2. Integers from 10 to 50 stepping by 5\n",
    "task2 = np.arange(10, 51, 5)\n",
    "print(\"Task 2:\", task2)\n",
    "\n",
    "# 3. Convert float array to int\n",
    "task3 = np.array([1.5, 2.3, 3.7]).astype(int)\n",
    "print(\"Task 3:\", task3)\n",
    "\n",
    "# 4. 2D array and shape\n",
    "task4 = np.array([[1, 2, 3], [4, 5, 6]])\n",
    "print(\"Task 4 array:\\n\", task4)\n",
    "print(\"Task 4 shape:\", task4.shape)\n",
    "\n",
    "# 5. Reshape 1D array to 3x2\n",
    "task5 = np.array([1, 2, 3, 4, 5, 6]).reshape((3, 2))\n",
    "print(\"Task 5 reshaped:\\n\", task5)\n",
    "\n",
    "# 6. Flatten 3x3 identity matrix\n",
    "identity_3x3 = np.eye(3)\n",
    "task6 = identity_3x3.flatten()\n",
    "print(\"Task 6 flattened identity matrix:\", task6)"
   ]
  },
  {
   "cell_type": "markdown",
   "id": "06c60801",
   "metadata": {},
   "source": [
    "## ❓ Multiple Choice Questions (MCQs)\n",
    "\n",
    "1. What function is used to create an array filled with zeros?\n",
    "    - A) `np.ones()`\n",
    "    - B) `np.zeros()`\n",
    "    - C) `np.full()`\n",
    "    - D) `np.arange()`\n",
    "\n",
    "2. What is the data type (`dtype`) of this array: `np.array([1, 2, 3])`?\n",
    "    - A) `float64`\n",
    "    - B) `int64` or `int32` (depending on system)\n",
    "    - C) `str`\n",
    "    - D) `bool`\n",
    "\n",
    "3. Which method changes the shape of an array without changing its data?\n",
    "    - A) `reshape()`\n",
    "    - B) `flatten()`\n",
    "    - C) `astype()`\n",
    "    - D) `arange()`\n",
    "\n",
    "4. What is the output shape of `np.array([[1, 2], [3, 4], [5, 6]]).shape`?\n",
    "    - A) (3, 2)\n",
    "    - B) (2, 3)\n",
    "    - C) (6,)\n",
    "    - D) (3,)\n",
    "\n",
    "5. Which NumPy function creates an identity matrix?\n",
    "    - A) `np.eye()`\n",
    "    - B) `np.identity()`\n",
    "    - C) Both A and B\n",
    "    - D) `np.zeros()`"
   ]
  }
 ],
 "metadata": {
  "language_info": {
   "name": "python"
  }
 },
 "nbformat": 4,
 "nbformat_minor": 5
}
