{
 "cells": [
  {
   "cell_type": "markdown",
   "metadata": {},
   "source": [
    "# pandas `groupby()` and Aggregation\n",
    "\n",
    "## Theory / Introduction\n",
    "\n",
    "In data analysis, often we want to group data by some categories and then perform calculations like sum, mean, or count on those groups. \n",
    "\n",
    "**`groupby()`** function in pandas allows us to split the data into groups based on some column(s), and then perform aggregation on these groups.\n",
    "\n",
    "Common aggregation functions are:\n",
    "- **sum()**: Adds up all values in the group\n",
    "- **mean()**: Calculates average value in the group\n",
    "- **count()**: Counts number of entries in the group\n",
    "\n",
    "This is very useful for summarizing and analyzing data easily."
   ]
  },
  {
   "cell_type": "markdown",
   "metadata": {},
   "source": [
    "## Sample Data\n",
    "\n",
    "Let's create a simple DataFrame to understand how `groupby()` works."
   ]
  },
  {
   "cell_type": "code",
   "metadata": {},
   "source": [
    "import pandas as pd\n",
    "\n",
    "# Creating a sample DataFrame\n",
    "data = {\n",
    "    'Department': ['Sales', 'Sales', 'HR', 'HR', 'IT', 'IT', 'IT'],\n",
    "    'Employee': ['Alice', 'Bob', 'Charlie', 'David', 'Eva', 'Frank', 'Grace'],\n",
    "    'Salary': [50000, 60000, 45000, 47000, 70000, 65000, 72000],\n",
    "    'Age': [25, 30, 35, 40, 28, 32, 27]\n",
    "}\n",
    "\n",
    "df = pd.DataFrame(data)\n",
    "df"
   ]
  },
  {
   "cell_type": "markdown",
   "metadata": {},
   "source": [
    "## Example 1: Group by Department and calculate sum of Salary\n",
    "\n",
    "We will group the data by the **Department** column and calculate the total salary for each department."
   ]
  },
  {
   "cell_type": "code",
   "metadata": {},
   "source": [
    "# Group by 'Department' and sum salaries\n",
    "salary_sum = df.groupby('Department')['Salary'].sum()\n",
    "salary_sum"
   ]
  },
  {
   "cell_type": "markdown",
   "metadata": {},
   "source": [
    "**Explanation:**\n",
    "- `df.groupby('Department')` groups data by unique values in Department.\n",
    "- `['Salary'].sum()` calculates sum of Salary for each group.\n",
    "- Result is a Series showing total salary per department."
   ]
  },
  {
   "cell_type": "markdown",
   "metadata": {},
   "source": [
    "## Example 2: Group by Department and calculate mean age\n",
    "\n",
    "Find the average age of employees in each department."
   ]
  },
  {
   "cell_type": "code",
   "metadata": {},
   "source": [
    "age_mean = df.groupby('Department')['Age'].mean()\n",
    "age_mean"
   ]
  },
  {
   "cell_type": "markdown",
   "metadata": {},
   "source": [
    "**Explanation:**\n",
    "- Groups by Department\n",
    "- Calculates average age of employees in each department\n",
    "- Useful to find typical age in departments"
   ]
  },
  {
   "cell_type": "markdown",
   "metadata": {},
   "source": [
    "## Example 3: Count number of employees in each department\n",
    "\n",
    "Count how many employees belong to each department."
   ]
  },
  {
   "cell_type": "code",
   "metadata": {},
   "source": [
    "employee_count = df.groupby('Department')['Employee'].count()\n",
    "employee_count"
   ]
  },
  {
   "cell_type": "markdown",
   "metadata": {},
   "source": [
    "**Explanation:**\n",
    "- Counts entries in each department\n",
    "- Here, counts number of employees"
   ]
  },
  {
   "cell_type": "markdown",
   "metadata": {},
   "source": [
    "## Example 4: Multiple Aggregations at once\n",
    "\n",
    "We can calculate multiple aggregations together like sum and mean for Salary and Age."
   ]
  },
  {
   "cell_type": "code",
   "metadata": {},
   "source": [
    "agg_result = df.groupby('Department').agg({\n",
    "    'Salary': ['sum', 'mean'],\n",
    "    'Age': ['mean', 'count']\n",
    "})\n",
    "agg_result"
   ]
  },
  {
   "cell_type": "markdown",
   "metadata": {},
   "source": [
    "**Explanation:**\n",
    "- `agg()` lets us specify multiple aggregation functions per column.\n",
    "- Here, we get sum and mean of Salary and mean and count of Age grouped by Department.\n",
    "- Result is a DataFrame with multi-level column names."
   ]
  },
  {
   "cell_type": "markdown",
   "metadata": {},
   "source": [
    "## Task for Students\n",
    "\n",
    "1. Create a new DataFrame with columns: `Team`, `Player`, `Points`, `Assists`.\n",
    "2. Group by `Team` and find total `Points` and average `Assists`.\n",
    "3. Count how many players are in each team.\n",
    "\n",
    "_Try to use `groupby()`, `sum()`, `mean()`, and `count()` methods._"
   ]
  },
  {
   "cell_type": "markdown",
   "metadata": {},
   "source": [
    "## MCQs (Multiple Choice Questions)\n",
    "\n",
    "**Q1:** What does the `groupby()` function do in pandas?\n",
    "\n",
    "- a) Sorts the data\n",
    "- b) Splits data into groups based on column values ✅\n",
    "- c) Deletes duplicate rows\n",
    "- d) Changes data types\n",
    "\n",
    "---\n",
    "\n",
    "**Q2:** What will `df.groupby('Department')['Salary'].sum()` return?\n",
    "\n",
    "- a) Sum of salaries for all employees combined\n",
    "- b) Sum of salaries for each department ✅\n",
    "- c) Count of employees\n",
    "- d) Mean salary per employee\n",
    "\n",
    "---\n",
    "\n",
    "**Q3:** Which of these aggregation functions can you use with `groupby()`?\n",
    "\n",
    "- a) sum ✅\n",
    "- b) mean ✅\n",
    "- c) count ✅\n",
    "- d) all of the above ✅\n",
    "\n",
    "---\n",
    "\n",
    "**Q4:** How to calculate multiple aggregations on grouped data?\n",
    "\n",
    "- a) Use `.agg()` method with dictionary specifying functions ✅\n",
    "- b) Use `.groupby().mean()` only\n",
    "- c) Use `.sum()` only\n",
    "- d) It is not possible\n"
   ]
  }
 ],
 "metadata": {
  "kernelspec": {
   "display_name": "Python 3",
   "language": "python",
   "name": "python3"
  },
  "language_info": {
   "name": "python",
   "version": "3.10"
  }
 },
 "nbformat": 4,
 "nbformat_minor": 5
}
