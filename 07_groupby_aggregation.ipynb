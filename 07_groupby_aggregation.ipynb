{
 "cells": [
  {
   "cell_type": "markdown",
   "metadata": {},
   "source": [
    "# pandas `groupby()` and Aggregation\n",
    "\n",
    "## Theory / Introduction\n",
    "\n",
    "In data analysis, often we want to group data by some categories and then perform calculations like sum, mean, or count on those groups. \n",
    "\n",
    "**`groupby()`** function in pandas allows us to split the data into groups based on some column(s), and then perform aggregation on these groups.\n",
    "\n",
    "Common aggregation functions are:\n",
    "- **sum()**: Adds up all values in the group\n",
    "- **mean()**: Calculates average value in the group\n",
    "- **count()**: Counts number of entries in the group\n",
    "\n",
    "This is very useful for summarizing and analyzing data easily."
   ]
  },
  {
   "cell_type": "markdown",
   "metadata": {},
   "source": [
    "## Sample Data\n",
    "\n",
    "Let's create a simple DataFrame to understand how `groupby()` works."
   ]
  },
  {
   "cell_type": "code",
   "execution_count": 1,
   "metadata": {},
   "outputs": [
    {
     "data": {
      "text/html": [
       "<div>\n",
       "<style scoped>\n",
       "    .dataframe tbody tr th:only-of-type {\n",
       "        vertical-align: middle;\n",
       "    }\n",
       "\n",
       "    .dataframe tbody tr th {\n",
       "        vertical-align: top;\n",
       "    }\n",
       "\n",
       "    .dataframe thead th {\n",
       "        text-align: right;\n",
       "    }\n",
       "</style>\n",
       "<table border=\"1\" class=\"dataframe\">\n",
       "  <thead>\n",
       "    <tr style=\"text-align: right;\">\n",
       "      <th></th>\n",
       "      <th>Department</th>\n",
       "      <th>Employee</th>\n",
       "      <th>Salary</th>\n",
       "      <th>Age</th>\n",
       "    </tr>\n",
       "  </thead>\n",
       "  <tbody>\n",
       "    <tr>\n",
       "      <th>0</th>\n",
       "      <td>Sales</td>\n",
       "      <td>Alice</td>\n",
       "      <td>50000</td>\n",
       "      <td>25</td>\n",
       "    </tr>\n",
       "    <tr>\n",
       "      <th>1</th>\n",
       "      <td>Sales</td>\n",
       "      <td>Bob</td>\n",
       "      <td>60000</td>\n",
       "      <td>30</td>\n",
       "    </tr>\n",
       "    <tr>\n",
       "      <th>2</th>\n",
       "      <td>HR</td>\n",
       "      <td>Charlie</td>\n",
       "      <td>45000</td>\n",
       "      <td>35</td>\n",
       "    </tr>\n",
       "    <tr>\n",
       "      <th>3</th>\n",
       "      <td>HR</td>\n",
       "      <td>David</td>\n",
       "      <td>47000</td>\n",
       "      <td>40</td>\n",
       "    </tr>\n",
       "    <tr>\n",
       "      <th>4</th>\n",
       "      <td>IT</td>\n",
       "      <td>Eva</td>\n",
       "      <td>70000</td>\n",
       "      <td>28</td>\n",
       "    </tr>\n",
       "    <tr>\n",
       "      <th>5</th>\n",
       "      <td>IT</td>\n",
       "      <td>Frank</td>\n",
       "      <td>65000</td>\n",
       "      <td>32</td>\n",
       "    </tr>\n",
       "    <tr>\n",
       "      <th>6</th>\n",
       "      <td>IT</td>\n",
       "      <td>Grace</td>\n",
       "      <td>72000</td>\n",
       "      <td>27</td>\n",
       "    </tr>\n",
       "  </tbody>\n",
       "</table>\n",
       "</div>"
      ],
      "text/plain": [
       "  Department Employee  Salary  Age\n",
       "0      Sales    Alice   50000   25\n",
       "1      Sales      Bob   60000   30\n",
       "2         HR  Charlie   45000   35\n",
       "3         HR    David   47000   40\n",
       "4         IT      Eva   70000   28\n",
       "5         IT    Frank   65000   32\n",
       "6         IT    Grace   72000   27"
      ]
     },
     "execution_count": 1,
     "metadata": {},
     "output_type": "execute_result"
    }
   ],
   "source": [
    "import pandas as pd\n",
    "\n",
    "# Creating a sample DataFrame\n",
    "data = {\n",
    "    'Department': ['Sales', 'Sales', 'HR', 'HR', 'IT', 'IT', 'IT'],\n",
    "    'Employee': ['Alice', 'Bob', 'Charlie', 'David', 'Eva', 'Frank', 'Grace'],\n",
    "    'Salary': [50000, 60000, 45000, 47000, 70000, 65000, 72000],\n",
    "    'Age': [25, 30, 35, 40, 28, 32, 27]\n",
    "}\n",
    "\n",
    "df = pd.DataFrame(data)\n",
    "df"
   ]
  },
  {
   "cell_type": "markdown",
   "metadata": {},
   "source": [
    "## Example 1: Group by Department and calculate sum of Salary\n",
    "\n",
    "We will group the data by the **Department** column and calculate the total salary for each department."
   ]
  },
  {
   "cell_type": "code",
   "execution_count": 2,
   "metadata": {},
   "outputs": [
    {
     "data": {
      "text/plain": [
       "Department\n",
       "HR        92000\n",
       "IT       207000\n",
       "Sales    110000\n",
       "Name: Salary, dtype: int64"
      ]
     },
     "execution_count": 2,
     "metadata": {},
     "output_type": "execute_result"
    }
   ],
   "source": [
    "# Group by 'Department' and sum salaries\n",
    "salary_sum = df.groupby('Department')['Salary'].sum()\n",
    "salary_sum"
   ]
  },
  {
   "cell_type": "markdown",
   "metadata": {},
   "source": [
    "**Explanation:**\n",
    "- `df.groupby('Department')` groups data by unique values in Department.\n",
    "- `['Salary'].sum()` calculates sum of Salary for each group.\n",
    "- Result is a Series showing total salary per department."
   ]
  },
  {
   "cell_type": "markdown",
   "metadata": {},
   "source": [
    "## Example 2: Group by Department and calculate mean age\n",
    "\n",
    "Find the average age of employees in each department."
   ]
  },
  {
   "cell_type": "code",
   "execution_count": 3,
   "metadata": {},
   "outputs": [
    {
     "data": {
      "text/plain": [
       "Department\n",
       "HR       37.5\n",
       "IT       29.0\n",
       "Sales    27.5\n",
       "Name: Age, dtype: float64"
      ]
     },
     "execution_count": 3,
     "metadata": {},
     "output_type": "execute_result"
    }
   ],
   "source": [
    "age_mean = df.groupby('Department')['Age'].mean()\n",
    "age_mean"
   ]
  },
  {
   "cell_type": "markdown",
   "metadata": {},
   "source": [
    "**Explanation:**\n",
    "- Groups by Department\n",
    "- Calculates average age of employees in each department\n",
    "- Useful to find typical age in departments"
   ]
  },
  {
   "cell_type": "markdown",
   "metadata": {},
   "source": [
    "## Example 3: Count number of employees in each department\n",
    "\n",
    "Count how many employees belong to each department."
   ]
  },
  {
   "cell_type": "code",
   "execution_count": 4,
   "metadata": {},
   "outputs": [
    {
     "data": {
      "text/plain": [
       "Department\n",
       "HR       2\n",
       "IT       3\n",
       "Sales    2\n",
       "Name: Employee, dtype: int64"
      ]
     },
     "execution_count": 4,
     "metadata": {},
     "output_type": "execute_result"
    }
   ],
   "source": [
    "employee_count = df.groupby('Department')['Employee'].count()\n",
    "employee_count"
   ]
  },
  {
   "cell_type": "markdown",
   "metadata": {},
   "source": [
    "**Explanation:**\n",
    "- Counts entries in each department\n",
    "- Here, counts number of employees"
   ]
  },
  {
   "cell_type": "markdown",
   "metadata": {},
   "source": [
    "## Example 4: Multiple Aggregations at once\n",
    "\n",
    "We can calculate multiple aggregations together like sum and mean for Salary and Age."
   ]
  },
  {
   "cell_type": "code",
   "execution_count": 5,
   "metadata": {},
   "outputs": [
    {
     "data": {
      "text/html": [
       "<div>\n",
       "<style scoped>\n",
       "    .dataframe tbody tr th:only-of-type {\n",
       "        vertical-align: middle;\n",
       "    }\n",
       "\n",
       "    .dataframe tbody tr th {\n",
       "        vertical-align: top;\n",
       "    }\n",
       "\n",
       "    .dataframe thead tr th {\n",
       "        text-align: left;\n",
       "    }\n",
       "\n",
       "    .dataframe thead tr:last-of-type th {\n",
       "        text-align: right;\n",
       "    }\n",
       "</style>\n",
       "<table border=\"1\" class=\"dataframe\">\n",
       "  <thead>\n",
       "    <tr>\n",
       "      <th></th>\n",
       "      <th colspan=\"2\" halign=\"left\">Salary</th>\n",
       "      <th colspan=\"2\" halign=\"left\">Age</th>\n",
       "    </tr>\n",
       "    <tr>\n",
       "      <th></th>\n",
       "      <th>sum</th>\n",
       "      <th>mean</th>\n",
       "      <th>mean</th>\n",
       "      <th>count</th>\n",
       "    </tr>\n",
       "    <tr>\n",
       "      <th>Department</th>\n",
       "      <th></th>\n",
       "      <th></th>\n",
       "      <th></th>\n",
       "      <th></th>\n",
       "    </tr>\n",
       "  </thead>\n",
       "  <tbody>\n",
       "    <tr>\n",
       "      <th>HR</th>\n",
       "      <td>92000</td>\n",
       "      <td>46000.0</td>\n",
       "      <td>37.5</td>\n",
       "      <td>2</td>\n",
       "    </tr>\n",
       "    <tr>\n",
       "      <th>IT</th>\n",
       "      <td>207000</td>\n",
       "      <td>69000.0</td>\n",
       "      <td>29.0</td>\n",
       "      <td>3</td>\n",
       "    </tr>\n",
       "    <tr>\n",
       "      <th>Sales</th>\n",
       "      <td>110000</td>\n",
       "      <td>55000.0</td>\n",
       "      <td>27.5</td>\n",
       "      <td>2</td>\n",
       "    </tr>\n",
       "  </tbody>\n",
       "</table>\n",
       "</div>"
      ],
      "text/plain": [
       "            Salary            Age      \n",
       "               sum     mean  mean count\n",
       "Department                             \n",
       "HR           92000  46000.0  37.5     2\n",
       "IT          207000  69000.0  29.0     3\n",
       "Sales       110000  55000.0  27.5     2"
      ]
     },
     "execution_count": 5,
     "metadata": {},
     "output_type": "execute_result"
    }
   ],
   "source": [
    "agg_result = df.groupby('Department').agg({\n",
    "    'Salary': ['sum', 'mean'],\n",
    "    'Age': ['mean', 'count']\n",
    "})\n",
    "agg_result"
   ]
  },
  {
   "cell_type": "markdown",
   "metadata": {},
   "source": [
    "**Explanation:**\n",
    "- `agg()` lets us specify multiple aggregation functions per column.\n",
    "- Here, we get sum and mean of Salary and mean and count of Age grouped by Department.\n",
    "- Result is a DataFrame with multi-level column names."
   ]
  },
  {
   "cell_type": "markdown",
   "metadata": {},
   "source": [
    "## Task for Students\n",
    "\n",
    "1. Create a new DataFrame with columns: `Team`, `Player`, `Points`, `Assists`.\n",
    "2. Group by `Team` and find total `Points` and average `Assists`.\n",
    "3. Count how many players are in each team.\n",
    "\n",
    "_Try to use `groupby()`, `sum()`, `mean()`, and `count()` methods._"
   ]
  },
  {
   "cell_type": "markdown",
   "metadata": {},
   "source": [
    "## MCQs (Multiple Choice Questions)\n",
    "\n",
    "**Q1:** What does the `groupby()` function do in pandas?\n",
    "\n",
    "- a) Sorts the data\n",
    "- b) Splits data into groups based on column values ✅\n",
    "- c) Deletes duplicate rows\n",
    "- d) Changes data types\n",
    "\n",
    "---\n",
    "\n",
    "**Q2:** What will `df.groupby('Department')['Salary'].sum()` return?\n",
    "\n",
    "- a) Sum of salaries for all employees combined\n",
    "- b) Sum of salaries for each department ✅\n",
    "- c) Count of employees\n",
    "- d) Mean salary per employee\n",
    "\n",
    "---\n",
    "\n",
    "**Q3:** Which of these aggregation functions can you use with `groupby()`?\n",
    "\n",
    "- a) sum ✅\n",
    "- b) mean ✅\n",
    "- c) count ✅\n",
    "- d) all of the above ✅\n",
    "\n",
    "---\n",
    "\n",
    "**Q4:** How to calculate multiple aggregations on grouped data?\n",
    "\n",
    "- a) Use `.agg()` method with dictionary specifying functions ✅\n",
    "- b) Use `.groupby().mean()` only\n",
    "- c) Use `.sum()` only\n",
    "- d) It is not possible\n"
   ]
  }
 ],
 "metadata": {
  "kernelspec": {
   "display_name": "Python 3",
   "language": "python",
   "name": "python3"
  },
  "language_info": {
   "codemirror_mode": {
    "name": "ipython",
    "version": 3
   },
   "file_extension": ".py",
   "mimetype": "text/x-python",
   "name": "python",
   "nbconvert_exporter": "python",
   "pygments_lexer": "ipython3",
   "version": "3.12.0"
  }
 },
 "nbformat": 4,
 "nbformat_minor": 5
}
