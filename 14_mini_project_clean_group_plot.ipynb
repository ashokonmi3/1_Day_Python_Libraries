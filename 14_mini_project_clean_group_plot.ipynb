{
  "cells": [
    {
      "cell_type": "markdown",
      "metadata": {},
      "source": [
        "# 🛠️ Mini-Project: Real-world Data Processing & Visualization\n",
        "\n",
        "### Overview:\n",
        "- We will work with a real-world CSV dataset.\n",
        "- Steps: **Load → Clean → Group → Plot**\n",
        "- This is a common workflow in data analysis.\n",
        "\n",
        "### Why this is important?\n",
        "- Real data is messy and needs cleaning.\n",
        "- Grouping helps summarize data.\n",
        "- Visualization makes data insights clear.\n",
        "\n",
        "---"
      ]
    },
    {
      "cell_type": "markdown",
      "metadata": {},
      "source": [
        "## Step 1: Load Data (CSV) 📥\n",
        "\n",
        "We load data from a CSV file into a pandas DataFrame.\n",
        "We use the famous 'Titanic' dataset here for demonstration.\n",
        "\n",
        "- Columns include: PassengerId, Survived, Pclass, Name, Sex, Age, Fare, etc."
      ]
    },
    {
      "cell_type": "code",
      "execution_count": 1,
      "metadata": {},
      "outputs": [
        {
          "data": {
            "text/html": [
              "<div>\n",
              "<style scoped>\n",
              "    .dataframe tbody tr th:only-of-type {\n",
              "        vertical-align: middle;\n",
              "    }\n",
              "\n",
              "    .dataframe tbody tr th {\n",
              "        vertical-align: top;\n",
              "    }\n",
              "\n",
              "    .dataframe thead th {\n",
              "        text-align: right;\n",
              "    }\n",
              "</style>\n",
              "<table border=\"1\" class=\"dataframe\">\n",
              "  <thead>\n",
              "    <tr style=\"text-align: right;\">\n",
              "      <th></th>\n",
              "      <th>PassengerId</th>\n",
              "      <th>Survived</th>\n",
              "      <th>Pclass</th>\n",
              "      <th>Name</th>\n",
              "      <th>Sex</th>\n",
              "      <th>Age</th>\n",
              "      <th>SibSp</th>\n",
              "      <th>Parch</th>\n",
              "      <th>Ticket</th>\n",
              "      <th>Fare</th>\n",
              "      <th>Cabin</th>\n",
              "      <th>Embarked</th>\n",
              "    </tr>\n",
              "  </thead>\n",
              "  <tbody>\n",
              "    <tr>\n",
              "      <th>0</th>\n",
              "      <td>1</td>\n",
              "      <td>0</td>\n",
              "      <td>3</td>\n",
              "      <td>Braund, Mr. Owen Harris</td>\n",
              "      <td>male</td>\n",
              "      <td>22.0</td>\n",
              "      <td>1</td>\n",
              "      <td>0</td>\n",
              "      <td>A/5 21171</td>\n",
              "      <td>7.2500</td>\n",
              "      <td>NaN</td>\n",
              "      <td>S</td>\n",
              "    </tr>\n",
              "    <tr>\n",
              "      <th>1</th>\n",
              "      <td>2</td>\n",
              "      <td>1</td>\n",
              "      <td>1</td>\n",
              "      <td>Cumings, Mrs. John Bradley (Florence Briggs Th...</td>\n",
              "      <td>female</td>\n",
              "      <td>38.0</td>\n",
              "      <td>1</td>\n",
              "      <td>0</td>\n",
              "      <td>PC 17599</td>\n",
              "      <td>71.2833</td>\n",
              "      <td>C85</td>\n",
              "      <td>C</td>\n",
              "    </tr>\n",
              "    <tr>\n",
              "      <th>2</th>\n",
              "      <td>3</td>\n",
              "      <td>1</td>\n",
              "      <td>3</td>\n",
              "      <td>Heikkinen, Miss. Laina</td>\n",
              "      <td>female</td>\n",
              "      <td>26.0</td>\n",
              "      <td>0</td>\n",
              "      <td>0</td>\n",
              "      <td>STON/O2. 3101282</td>\n",
              "      <td>7.9250</td>\n",
              "      <td>NaN</td>\n",
              "      <td>S</td>\n",
              "    </tr>\n",
              "    <tr>\n",
              "      <th>3</th>\n",
              "      <td>4</td>\n",
              "      <td>1</td>\n",
              "      <td>1</td>\n",
              "      <td>Futrelle, Mrs. Jacques Heath (Lily May Peel)</td>\n",
              "      <td>female</td>\n",
              "      <td>35.0</td>\n",
              "      <td>1</td>\n",
              "      <td>0</td>\n",
              "      <td>113803</td>\n",
              "      <td>53.1000</td>\n",
              "      <td>C123</td>\n",
              "      <td>S</td>\n",
              "    </tr>\n",
              "    <tr>\n",
              "      <th>4</th>\n",
              "      <td>5</td>\n",
              "      <td>0</td>\n",
              "      <td>3</td>\n",
              "      <td>Allen, Mr. William Henry</td>\n",
              "      <td>male</td>\n",
              "      <td>35.0</td>\n",
              "      <td>0</td>\n",
              "      <td>0</td>\n",
              "      <td>373450</td>\n",
              "      <td>8.0500</td>\n",
              "      <td>NaN</td>\n",
              "      <td>S</td>\n",
              "    </tr>\n",
              "  </tbody>\n",
              "</table>\n",
              "</div>"
            ],
            "text/plain": [
              "   PassengerId  Survived  Pclass  \\\n",
              "0            1         0       3   \n",
              "1            2         1       1   \n",
              "2            3         1       3   \n",
              "3            4         1       1   \n",
              "4            5         0       3   \n",
              "\n",
              "                                                Name     Sex   Age  SibSp  \\\n",
              "0                            Braund, Mr. Owen Harris    male  22.0      1   \n",
              "1  Cumings, Mrs. John Bradley (Florence Briggs Th...  female  38.0      1   \n",
              "2                             Heikkinen, Miss. Laina  female  26.0      0   \n",
              "3       Futrelle, Mrs. Jacques Heath (Lily May Peel)  female  35.0      1   \n",
              "4                           Allen, Mr. William Henry    male  35.0      0   \n",
              "\n",
              "   Parch            Ticket     Fare Cabin Embarked  \n",
              "0      0         A/5 21171   7.2500   NaN        S  \n",
              "1      0          PC 17599  71.2833   C85        C  \n",
              "2      0  STON/O2. 3101282   7.9250   NaN        S  \n",
              "3      0            113803  53.1000  C123        S  \n",
              "4      0            373450   8.0500   NaN        S  "
            ]
          },
          "execution_count": 1,
          "metadata": {},
          "output_type": "execute_result"
        }
      ],
      "source": [
        "# Import pandas\n",
        "import pandas as pd\n",
        "\n",
        "# Load the Titanic dataset from URL (or local CSV if you have)\n",
        "url = 'https://raw.githubusercontent.com/datasciencedojo/datasets/master/titanic.csv'\n",
        "df = pd.read_csv(url)\n",
        "\n",
        "# Show first 5 rows\n",
        "df.head()"
      ]
    },
    {
      "cell_type": "markdown",
      "metadata": {},
      "source": [
        "### Notes:\n",
        "- `pd.read_csv()` loads CSV data.\n",
        "- `df.head()` displays the first 5 rows.\n",
        "- Real datasets usually have many columns and rows."
      ]
    },
    {
      "cell_type": "markdown",
      "metadata": {},
      "source": [
        "## Step 2: Data Cleaning 🧹\n",
        "\n",
        "- Real data can have missing or incorrect values.\n",
        "- Let's check for missing values and handle them.\n",
        "\n",
        "- We will fill missing 'Age' values with the average age.\n",
        "- Drop irrelevant columns for this project (like 'Name', 'Ticket')."
      ]
    },
    {
      "cell_type": "code",
      "execution_count": null,
      "metadata": {},
      "outputs": [],
      "source": [
        "# Check missing values\n",
        "df.isnull().sum()"
      ]
    },
    {
      "cell_type": "markdown",
      "metadata": {},
      "source": [
        "### Handle missing values in 'Age'"
      ]
    },
    {
      "cell_type": "code",
      "execution_count": null,
      "metadata": {},
      "outputs": [],
      "source": [
        "# Fill missing Age values with mean age\n",
        "mean_age = df['Age'].mean()\n",
        "df['Age'].fillna(mean_age, inplace=True)\n",
        "\n",
        "# Drop columns that won't be used\n",
        "df_clean = df.drop(columns=['PassengerId', 'Name', 'Ticket', 'Cabin', 'Embarked'])\n",
        "\n",
        "# Check again for missing values\n",
        "df_clean.isnull().sum()"
      ]
    },
    {
      "cell_type": "markdown",
      "metadata": {},
      "source": [
        "### Notes:\n",
        "- `.fillna()` fills missing values.\n",
        "- `.drop()` removes unwanted columns.\n",
        "- Always check for missing data before analysis."
      ]
    },
    {
      "cell_type": "markdown",
      "metadata": {},
      "source": [
        "## Step 3: Grouping and Aggregation 🔍\n",
        "\n",
        "- Let's analyze survival rate by gender.\n",
        "- We'll group by 'Sex' and calculate average survival.\n",
        "\n",
        "- We can also group by 'Pclass' (passenger class) to see survival trends."
      ]
    },
    {
      "cell_type": "code",
      "execution_count": null,
      "metadata": {},
      "outputs": [],
      "source": [
        "# Group by Sex and calculate mean survival rate\n",
        "grouped_sex = df_clean.groupby('Sex')['Survived'].mean()\n",
        "print('Survival Rate by Gender:')\n",
        "print(grouped_sex)\n",
        "\n",
        "# Group by Passenger Class and calculate mean survival rate\n",
        "grouped_class = df_clean.groupby('Pclass')['Survived'].mean()\n",
        "print('\\nSurvival Rate by Passenger Class:')\n",
        "print(grouped_class)"
      ]
    },
    {
      "cell_type": "markdown",
      "metadata": {},
      "source": [
        "### Notes:\n",
        "- `.groupby()` groups data by column.\n",
        "- `.mean()` calculates average of numeric column.\n",
        "- This gives us summarized insights."
      ]
    },
    {
      "cell_type": "markdown",
      "metadata": {},
      "source": [
        "## Step 4: Visualization 📈\n",
        "\n",
        "We will use **matplotlib** and **seaborn** to visualize the grouped data."
      ]
    },
    {
      "cell_type": "code",
      "execution_count": null,
      "metadata": {},
      "outputs": [],
      "source": [
        "# Import visualization libraries\n",
        "import matplotlib.pyplot as plt\n",
        "import seaborn as sns\n",
        "\n",
        "# Plot survival rate by gender\n",
        "grouped_sex.plot(kind='bar', color=['skyblue', 'lightpink'])\n",
        "plt.title('Survival Rate by Gender')\n",
        "plt.ylabel('Survival Rate')\n",
        "plt.ylim(0,1)\n",
        "plt.show()"
      ]
    },
    {
      "cell_type": "code",
      "execution_count": null,
      "metadata": {},
      "outputs": [],
      "source": [
        "# Convert grouped_class to DataFrame for seaborn\n",
        "grouped_class_df = grouped_class.reset_index()\n",
        "grouped_class_df.columns = ['Pclass', 'Survival Rate']\n",
        "\n",
        "# Seaborn barplot for survival by passenger class\n",
        "sns.barplot(data=grouped_class_df, x='Pclass', y='Survival Rate', palette='viridis')\n",
        "plt.title('Survival Rate by Passenger Class')\n",
        "plt.ylim(0,1)\n",
        "plt.show()"
      ]
    },
    {
      "cell_type": "markdown",
      "metadata": {},
      "source": [
        "### Notes:\n",
        "- `.plot(kind='bar')` creates bar plots in pandas/matplotlib.\n",
        "- Seaborn uses DataFrames and offers better aesthetics by default.\n",
        "- Adjusting y-axis limits improves clarity.\n",
        "- Titles and labels make plots understandable."
      ]
    },
    {
      "cell_type": "markdown",
      "metadata": {},
      "source": [
        "---\n",
        "## 🎯 Tasks for Students\n",
        "1. Load a CSV file of your choice and check for missing data.\n",
        "2. Fill missing values appropriately (mean, median or mode).\n",
        "3. Group data by one or two categorical columns and calculate mean or count.\n",
        "4. Plot the grouped data using matplotlib or seaborn.\n",
        "5. Add meaningful titles and labels to your plots."
      ]
    },
    {
      "cell_type": "markdown",
      "metadata": {},
      "source": [
        "## ✅ MCQs\n",
        "\n",
        "<span style='color:green;font-weight:bold;'>Q1:</span> Which pandas method helps to fill missing values?\n",
        "- a) `.dropna()` ❌\n",
        "- b) `.fillna()` ✅ ✔️\n",
        "- c) `.groupby()` ❌\n",
        "- d) `.plot()` ❌\n",
        "\n",
        "<span style='color:green;font-weight:bold;'>Q2:</span> To calculate average survival rate grouped by gender, we use?\n",
        "- a) `df.groupby('Sex')['Survived'].mean()` ✅ ✔️\n",
        "- b) `df.mean()` ❌\n",
        "- c) `df.fillna()` ❌\n",
        "- d) `df.plot()` ❌\n",
        "\n",
        "<span style='color:green;font-weight:bold;'>Q3:</span> Which library provides better default aesthetics for plots?\n",
        "- a) Matplotlib ❌\n",
        "- b) Seaborn ✅ ✔️\n",
        "- c) Pandas ❌\n",
        "- d) NumPy ❌\n",
        "\n",
        "<span style='color:green;font-weight:bold;'>Q4:</span> What does `df.drop(columns=[...])` do?\n",
        "- a) Deletes rows ❌\n",
        "- b) Removes columns ✅ ✔️\n",
        "- c) Fills missing data ❌\n",
        "- d) Groups data ❌\n",
        "\n",
        "---"
      ]
    }
  ],
  "metadata": {
    "kernelspec": {
      "display_name": "Python 3",
      "language": "python",
      "name": "python3"
    },
    "language_info": {
      "codemirror_mode": {
        "name": "ipython",
        "version": 3
      },
      "file_extension": ".py",
      "mimetype": "text/x-python",
      "name": "python",
      "nbconvert_exporter": "python",
      "pygments_lexer": "ipython3",
      "version": "3.12.0"
    }
  },
  "nbformat": 4,
  "nbformat_minor": 5
}
