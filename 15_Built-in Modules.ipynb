{
  "cells": [
    {
      "cell_type": "markdown",
      "metadata": {},
      "source": [
        "# 📚 Built-in Modules Overview: os, sys, math\n",
        "\n",
        "### Objective:\n",
        "- Understand what Python built-in modules are.\n",
        "- Learn basics of three commonly used modules: **os**, **sys**, and **math**.\n",
        "- See simple examples and try basic tasks.\n",
        "\n",
        "---"
      ]
    },
    {
      "cell_type": "markdown",
      "metadata": {},
      "source": [
        "## What are Built-in Modules? 🧩\n",
        "- Python has many modules ready to use (built-in).\n",
        "- Modules are like toolkits with useful functions.\n",
        "- We import them to use their functionality without writing from scratch.\n",
        "- Examples: `os`, `sys`, `math`, `random` etc.\n",
        "\n",
        "### How to use a module?\n",
        "```python\n",
        "import module_name\n",
        "result = module_name.function()\n",
        "```\n",
        "---"
      ]
    },
    {
      "cell_type": "markdown",
      "metadata": {},
      "source": [
        "## 1️⃣ Module: `os` (Operating System)\n",
        "- Helps interact with the operating system.\n",
        "- Common uses:\n",
        "  - Working with files and directories\n",
        "  - Getting current working directory\n",
        "  - Listing files\n",
        "- Useful for automating tasks on your computer."
      ]
    },
    {
      "cell_type": "code",
      "metadata": {},
      "source": [
        "# Import os module\n",
        "import os\n",
        "\n",
        "# Get current working directory\n",
        "cwd = os.getcwd()  # Returns the folder where the script runs\n",
        "print('Current Working Directory:', cwd)\n",
        "\n",
        "# List files and folders in cwd\n",
        "files = os.listdir(cwd)\n",
        "print('\\nFiles and folders:', files)\n",
        "\n",
        "# Check if a file exists (example: 'test.txt')\n",
        "file_exists = os.path.exists('test.txt')\n",
        "print('\\nDoes test.txt exist?', file_exists)"
      ]
    },
    {
      "cell_type": "markdown",
      "metadata": {},
      "source": [
        "### Notes:\n",
        "- `os.getcwd()` gets current folder path.\n",
        "- `os.listdir()` lists files/folders.\n",
        "- `os.path.exists()` checks if a file/folder exists.\n",
        "- You can automate file checking and directory management using `os`."
      ]
    },
    {
      "cell_type": "markdown",
      "metadata": {},
      "source": [
        "## 2️⃣ Module: `sys` (System-specific parameters and functions)\n",
        "- Allows interaction with the Python runtime environment.\n",
        "- Useful for getting Python version, command-line arguments, etc."
      ]
    },
    {
      "cell_type": "code",
      "metadata": {},
      "source": [
        "import sys\n",
        "\n",
        "# Get Python version\n",
        "print('Python Version:', sys.version)\n",
        "\n",
        "# Get list of command line arguments (if any)\n",
        "print('Command Line Arguments:', sys.argv)\n",
        "\n",
        "# Exit the program (commented so notebook doesn't stop)\n",
        "# sys.exit(0)"
      ]
    },
    {
      "cell_type": "markdown",
      "metadata": {},
      "source": [
        "### Notes:\n",
        "- `sys.version` tells the Python version running.\n",
        "- `sys.argv` holds command-line inputs (usually empty in notebooks).\n",
        "- `sys.exit()` stops the Python program (useful in scripts)."
      ]
    },
    {
      "cell_type": "markdown",
      "metadata": {},
      "source": [
        "## 3️⃣ Module: `math` (Mathematical functions)\n",
        "- Provides common math functions and constants.\n",
        "- Useful for calculations beyond basic `+ - * /`.\n",
        "- Examples: square root, power, constants like pi."
      ]
    },
    {
      "cell_type": "code",
      "metadata": {},
      "source": [
        "import math\n",
        "\n",
        "# Calculate square root\n",
        "print('Square root of 16:', math.sqrt(16))\n",
        "\n",
        "# Calculate power (3^4)\n",
        "print('3 to the power 4:', math.pow(3, 4))\n",
        "\n",
        "# Get value of pi\n",
        "print('Value of pi:', math.pi)\n",
        "\n",
        "# Calculate cosine of 0 radians\n",
        "print('Cosine of 0:', math.cos(0))"
      ]
    },
    {
      "cell_type": "markdown",
      "metadata": {},
      "source": [
        "### Notes:\n",
        "- `math.sqrt()` for square root.\n",
        "- `math.pow(x, y)` for exponentiation.\n",
        "- `math.pi` is constant π.\n",
        "- Trigonometric functions like `math.cos()` accept radians."
      ]
    },
    {
      "cell_type": "markdown",
      "metadata": {},
      "source": [
        "---\n",
        "## 🎯 Tasks for Students\n",
        "1. Use the `os` module to print your current working directory.\n",
        "2. List files in any folder on your system using `os.listdir()`.\n",
        "3. Use `sys` to print your Python version.\n",
        "4. Calculate the square root of 25 and the value of pi using `math`.\n",
        "5. Try to check if a file named 'example.txt' exists in your current directory."
      ]
    },
    {
      "cell_type": "markdown",
      "metadata": {},
      "source": [
        "## ✅ Quick MCQs\n",
        "\n",
        "<span style='color:green;font-weight:bold;'>Q1:</span> Which module do you use to work with files and directories?\n",
        "- a) `sys`\n",
        "- b) `os` ✅ ✔️\n",
        "- c) `math`\n",
        "- d) `random`\n",
        "\n",
        "<span style='color:green;font-weight:bold;'>Q2:</span> How do you import a module in Python?\n",
        "- a) `include module`\n",
        "- b) `import module` ✅ ✔️\n",
        "- c) `using module`\n",
        "- d) `open module`\n",
        "\n",
        "<span style='color:green;font-weight:bold;'>Q3:</span> Which function calculates square root?\n",
        "- a) `math.sqrt()` ✅ ✔️\n",
        "- b) `math.power()`\n",
        "- c) `sys.sqrt()`\n",
        "- d) `os.sqrt()`\n",
        "\n",
        "<span style='color:green;font-weight:bold;'>Q4:</span> `sys.version` returns:\n",
        "- a) Current Python version ✅ ✔️\n",
        "- b) Current OS version\n",
        "- c) Current working directory\n",
        "- d) List of files\n"
      ]
    }
  ],
  "metadata": {
    "kernelspec": {
      "display_name": "Python 3",
      "language": "python",
      "name": "python3"
    },
    "language_info": {
      "name": "python",
      "version": "3.x"
    }
  },
  "nbformat": 4,
  "nbformat_minor": 5
}
