{
 "cells": [
  {
   "cell_type": "markdown",
   "id": "5853d5c8",
   "metadata": {},
   "source": [
    "# 🧠 NumPy Overview – Arrays vs Lists, Advantages of NumPy"
   ]
  },
  {
   "cell_type": "markdown",
   "id": "87c692e1",
   "metadata": {},
   "source": [
    "## 1. What is NumPy?\n",
    "NumPy (Numerical Python) is a powerful Python library used for numerical computations.\n",
    "\n",
    "- It allows you to work with **large arrays and matrices of numeric data**.\n",
    "- It provides **functions to perform mathematical operations efficiently**.\n",
    "\n",
    "> NumPy is to Python what a calculator is to math – **fast, efficient, and specialized for numbers**.\n"
   ]
  },
  {
   "cell_type": "markdown",
   "id": "276c1e60",
   "metadata": {},
   "source": [
    "## 2. Python Lists vs NumPy Arrays\n",
    "\n",
    "| Feature | Python List | NumPy Array |\n",
    "|--------|-------------|-------------|\n",
    "| Type | General-purpose | Numerical operations |\n",
    "| Speed | Slower | Much faster |\n",
    "| Memory usage | Higher | Lower |\n",
    "| Functionality | Limited | Extensive math functions |\n",
    "| Data type | Mixed | Homogeneous (same type) |\n"
   ]
  },
  {
   "cell_type": "markdown",
   "id": "9ef81add",
   "metadata": {},
   "source": [
    "## 🆚 Python List vs `array.array` vs NumPy Array\n",
    "\n",
    "Before we dive into NumPy, let’s compare Python's built-in list and array structures with NumPy arrays.\n",
    "\n",
    "- **Python List**: Can hold items of different data types.\n",
    "- **array.array**: Provided by Python standard library, can only hold one data type.\n",
    "- **NumPy Array**: Comes from the NumPy library, supports fast, efficient operations and advanced math.\n",
    "\n",
    "- **Python List:** Flexible but slower for numerical operations.\n",
    "- **array.array:** More efficient than lists but limited functionality.\n",
    "- **NumPy Arrays:** Highly efficient and rich functionality for numerical computing."
   ]
  },
  {
   "cell_type": "markdown",
   "id": "3e448086",
   "metadata": {},
   "source": [
    "| Feature               | Python List   | `array.array`    | NumPy Array     |\n",
    "|----------------------|---------------|------------------|-----------------|\n",
    "| Mixed data types     | ✅ Yes        | ❌ No             | ❌ No           |\n",
    "| Easy math operations | ❌ No         | ❌ No             | ✅ Yes          |\n",
    "| Speed                | Slow          | Moderate          | ✅ Fast         |\n",
    "| Memory efficient     | ❌ No         | ✅ Yes            | ✅ Yes          |"
   ]
  },
  {
   "cell_type": "markdown",
   "id": "91991126",
   "metadata": {},
   "source": [
    "## 3. Advantages of NumPy Arrays over Python Lists\n",
    "\n",
    "1. **Performance**: NumPy arrays are faster than Python lists.\n",
    "2. **Less Memory**: Arrays use less memory than lists.\n",
    "3. **Convenient**: Comes with built-in mathematical functions.\n",
    "4. **Multi-dimensional support**: Easy to work with 2D, 3D, etc.\n"
   ]
  },
  {
   "cell_type": "markdown",
   "id": "70a3f0f8",
   "metadata": {},
   "source": [
    "## 4. Let’s See It in Action\n",
    "### 📌 Example 1: Python List vs NumPy Array - Creation"
   ]
  },
  {
   "cell_type": "code",
   "execution_count": 1,
   "id": "c81bea48",
   "metadata": {},
   "outputs": [
    {
     "name": "stdout",
     "output_type": "stream",
     "text": [
      "Python List: [1, 2, 3, 4, 5]\n",
      "NumPy Array: [1 2 3 4 5]\n"
     ]
    }
   ],
   "source": [
    "# Python list\n",
    "py_list = [1, 2, 3, 4, 5]\n",
    "print(\"Python List:\", py_list)\n",
    "\n",
    "# NumPy array\n",
    "import numpy as np\n",
    "np_array = np.array([1, 2, 3, 4, 5])\n",
    "print(\"NumPy Array:\", np_array)\n"
   ]
  },
  {
   "cell_type": "markdown",
   "id": "1db38858",
   "metadata": {},
   "source": [
    "### 📌 Example 2: Performance Comparison (Time)"
   ]
  },
  {
   "cell_type": "code",
   "execution_count": 2,
   "id": "518491dc",
   "metadata": {},
   "outputs": [
    {
     "name": "stdout",
     "output_type": "stream",
     "text": [
      "Sum with list: 499999500000 Time: 0.04968523979187012\n",
      "Sum with NumPy array: 499999500000 Time: 0.0010004043579101562\n"
     ]
    }
   ],
   "source": [
    "import time\n",
    "\n",
    "py_list = list(range(1000000))\n",
    "np_array = np.array(py_list)\n",
    "\n",
    "start = time.time()\n",
    "sum_list = sum(py_list)\n",
    "end = time.time()\n",
    "print(\"Sum with list:\", sum_list, \"Time:\", end - start)\n",
    "\n",
    "start = time.time()\n",
    "sum_array = np.sum(np_array)\n",
    "end = time.time()\n",
    "print(\"Sum with NumPy array:\", sum_array, \"Time:\", end - start)\n"
   ]
  },
  {
   "cell_type": "markdown",
   "id": "9db555f0",
   "metadata": {},
   "source": [
    "### 📌 Example 3: Memory Usage Comparison"
   ]
  },
  {
   "cell_type": "code",
   "execution_count": 3,
   "id": "80f8cd1b",
   "metadata": {},
   "outputs": [
    {
     "name": "stdout",
     "output_type": "stream",
     "text": [
      "Memory used by list: 28000 bytes\n",
      "Memory used by NumPy array: 8000 bytes\n"
     ]
    }
   ],
   "source": [
    "import sys\n",
    "\n",
    "py_list = list(range(1000))\n",
    "np_array = np.array(py_list)\n",
    "\n",
    "print(\"Memory used by list:\", sys.getsizeof(py_list[0]) * len(py_list), \"bytes\")\n",
    "print(\"Memory used by NumPy array:\", np_array.nbytes, \"bytes\")\n"
   ]
  },
  {
   "cell_type": "markdown",
   "id": "580948f3",
   "metadata": {},
   "source": [
    "### 📌 Example 4: Element-wise Operations"
   ]
  },
  {
   "cell_type": "code",
   "execution_count": 4,
   "id": "d64cef51",
   "metadata": {},
   "outputs": [
    {
     "name": "stdout",
     "output_type": "stream",
     "text": [
      "List result: [5, 7, 9]\n",
      "NumPy array result: [5 7 9]\n"
     ]
    }
   ],
   "source": [
    "# With Python list\n",
    "list1 = [1, 2, 3]\n",
    "list2 = [4, 5, 6]\n",
    "list_result = [list1[i] + list2[i] for i in range(len(list1))]\n",
    "print(\"List result:\", list_result)\n",
    "\n",
    "# With NumPy arrays\n",
    "arr1 = np.array([1, 2, 3])\n",
    "arr2 = np.array([4, 5, 6])\n",
    "arr_result = arr1 + arr2\n",
    "print(\"NumPy array result:\", arr_result)\n"
   ]
  },
  {
   "cell_type": "markdown",
   "id": "d013e7c4",
   "metadata": {},
   "source": [
    "### 📌 Example 5: Multiply Elements"
   ]
  },
  {
   "cell_type": "code",
   "execution_count": 5,
   "id": "81cd8ed1",
   "metadata": {},
   "outputs": [
    {
     "name": "stdout",
     "output_type": "stream",
     "text": [
      "List multiplied by 3: [6, 12, 18]\n",
      "NumPy multiplied by 3: [ 6 12 18]\n"
     ]
    }
   ],
   "source": [
    "# Multiply elements\n",
    "# Python\n",
    "list_multiply = [x * 3 for x in [2, 4, 6]]\n",
    "print(\"List multiplied by 3:\", list_multiply)\n",
    "\n",
    "# NumPy\n",
    "arr = np.array([2, 4, 6])\n",
    "print(\"NumPy multiplied by 3:\", arr * 3)\n"
   ]
  },
  {
   "cell_type": "markdown",
   "id": "a8dcb1a9",
   "metadata": {},
   "source": [
    "### 📌 Example 6: Applying Square Root"
   ]
  },
  {
   "cell_type": "code",
   "execution_count": null,
   "id": "83e00d10",
   "metadata": {},
   "outputs": [],
   "source": [
    "# Python list (manual)\n",
    "list_numbers = [4, 9, 16]\n",
    "sqrt_list = [x ** 0.5 for x in list_numbers]\n",
    "print(\"Sqrt (list):\", sqrt_list)\n",
    "\n",
    "# NumPy\n",
    "arr_numbers = np.array([4, 9, 16])\n",
    "print(\"Sqrt (NumPy):\", np.sqrt(arr_numbers))\n"
   ]
  },
  {
   "cell_type": "markdown",
   "id": "f844f1ec",
   "metadata": {},
   "source": [
    "## 🧠 Real-world Analogy\n",
    "\n",
    "> Think of Python lists as **paper registers** – flexible but slow to search or update.  \n",
    "> NumPy arrays are like **Excel sheets** – optimized for fast and bulk data operations.\n"
   ]
  },
  {
   "cell_type": "markdown",
   "id": "33e44144",
   "metadata": {},
   "source": [
    "## 📝 Practice Exercises\n",
    "\n",
    "1. Create a NumPy array with numbers 10 to 50.\n",
    "2. Add two arrays: `[10, 20, 30]` and `[1, 2, 3]`\n",
    "3. Use NumPy to multiply each element in `[2, 4, 6]` by 3.\n"
   ]
  },
  {
   "cell_type": "markdown",
   "id": "cfb45f90",
   "metadata": {},
   "source": [
    "## ❓ MCQs / Quick Check\n",
    "\n",
    "1. What is a key advantage of NumPy over Python lists?  \n",
    "    a) Slower performance  \n",
    "    b) Supports text operations  \n",
    "    c) Faster numeric operations ✅  \n",
    "    d) Consumes more memory  \n",
    "\n",
    "2. NumPy arrays are:  \n",
    "    a) Heterogeneous (mixed data types)  \n",
    "    b) Homogeneous (same data type) ✅  \n",
    "    c) Only for images  \n",
    "    d) Only for small datasets  \n",
    "\n",
    "3. Which operation is **faster** with NumPy?  \n",
    "    a) Iterating character-by-character  \n",
    "    b) Adding two arrays element-wise ✅  \n",
    "    c) Working with JSON  \n",
    "    d) Reading a file\n"
   ]
  }
 ],
 "metadata": {
  "kernelspec": {
   "display_name": "Python 3",
   "language": "python",
   "name": "python3"
  },
  "language_info": {
   "codemirror_mode": {
    "name": "ipython",
    "version": 3
   },
   "file_extension": ".py",
   "mimetype": "text/x-python",
   "name": "python",
   "nbconvert_exporter": "python",
   "pygments_lexer": "ipython3",
   "version": "3.12.0"
  }
 },
 "nbformat": 4,
 "nbformat_minor": 5
}
