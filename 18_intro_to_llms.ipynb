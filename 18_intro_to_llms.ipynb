{
    "cells": [
        {
            "cell_type": "markdown",
            "metadata": {},
            "source": [
                "# 🤖 Introduction to Large Language Models (LLMs)"
            ]
        },
        {
            "cell_type": "markdown",
            "metadata": {},
            "source": [
                "## 📌 What is an LLM?\n",
                "\n",
                "A **Large Language Model (LLM)** is a computer program that can understand and generate human-like language.\n",
                "\n",
                "**Think of it like a very smart text predictor** trained on a huge amount of text data (books, websites, etc).\n",
                "\n",
                "🔹 Example: ChatGPT is an LLM.\n",
                "\n",
                "### 🧠 Key Features:\n",
                "- Trained on billions of words\n",
                "- Can summarize, write, translate, and answer questions\n",
                "- Learns patterns in language, not facts\n",
                "- Works best when given clear instructions (called prompts)"
            ]
        },
        {
            "cell_type": "markdown",
            "metadata": {},
            "source": [
                "## 📊 Relevance of Data Preparation & Visualization\n",
                "\n",
                "LLMs don’t just work on text! Before using them, we usually prepare and visualize data. Why?\n",
                "\n",
                "✅ **Data Cleaning** helps remove errors\n",
                "\n",
                "✅ **Data Visualization** helps us understand trends and patterns\n",
                "\n",
                "**In LLM workflows, clean and meaningful data helps generate better results.**"
            ]
        },
        {
            "cell_type": "code",
            "execution_count": null,
            "metadata": {},
            "outputs": [],
            "source": [
                "# 🔧 Basic Data Cleaning Example (Pandas)\n",
                "import pandas as pd\n",
                "\n",
                "# Load sample data\n",
                "data = pd.DataFrame({\n",
                "    'Name': ['Alice', 'Bob', 'Charlie', None],\n",
                "    'Message': ['Hi there!', 'Need help', None, 'Thanks!']\n",
                "})\n",
                "\n",
                "# Drop rows with missing values\n",
                "clean_data = data.dropna()\n",
                "print(clean_data)"
            ]
        },
        {
            "cell_type": "code",
            "execution_count": null,
            "metadata": {},
            "outputs": [],
            "source": [
                "# 📊 Visualizing Message Length\n",
                "import matplotlib.pyplot as plt\n",
                "\n",
                "clean_data['Msg Length'] = clean_data['Message'].apply(len)\n",
                "plt.bar(clean_data['Name'], clean_data['Msg Length'])\n",
                "plt.title('Message Length per Person')\n",
                "plt.xlabel('Name')\n",
                "plt.ylabel('Length')\n",
                "plt.show()"
            ]
        },
        {
            "cell_type": "markdown",
            "metadata": {},
            "source": [
                "## 🤖 Basic Use Case #1: Text Summarization\n",
                "\n",
                "Some LLMs can take long text and give a summary. Here's a simple example using OpenAI's `transformers` (offline example only):"
            ]
        },
        {
            "cell_type": "code",
            "execution_count": null,
            "metadata": {},
            "outputs": [],
            "source": [
                "# 🚨 Requires: pip install transformers\n",
                "# from transformers import pipeline\n",
                "# summarizer = pipeline('summarization')\n",
                "# text = \"\"\"Machine learning is a field of AI that uses statistical techniques to give computers the ability to learn from data...\"\"\"\n",
                "# summary = summarizer(text, max_length=30, min_length=5, do_sample=False)\n",
                "# print(summary[0]['summary_text'])"
            ]
        },
        {
            "cell_type": "markdown",
            "metadata": {},
            "source": [
                "## 🤖 Basic Use Case #2: Chatbot-style tool\n",
                "\n",
                "Here’s a basic way to simulate a chatbot-like interaction:"
            ]
        },
        {
            "cell_type": "code",
            "execution_count": null,
            "metadata": {},
            "outputs": [],
            "source": [
                "# 🔁 Simulated chatbot response logic (without actual LLM)\n",
                "def simple_bot(input_text):\n",
                "    if 'hello' in input_text.lower():\n",
                "        return 'Hi! How can I help you?'\n",
                "    elif 'thanks' in input_text.lower():\n",
                "        return 'You\\'re welcome!'\n",
                "    else:\n",
                "        return 'Sorry, I don\\'t understand.'\n",
                "\n",
                "# Try it\n",
                "print(simple_bot(\"Hello!\"))"
            ]
        },
        {
            "cell_type": "markdown",
            "metadata": {},
            "source": [
                "## 📝 Task for Students:\n",
                "\n",
                "1. Create a DataFrame with 3 names and sample messages\n",
                "2. Remove any missing messages\n",
                "3. Plot message length using matplotlib\n",
                "4. Add simple if-else chatbot to respond to: \"Hi\", \"Help\", \"Bye\""
            ]
        },
        {
            "cell_type": "markdown",
            "metadata": {},
            "source": [
                "## ✅ Basic MCQs\n",
                "\n",
                "### 1. What is an LLM?\n",
                "- [ ] A small language dictionary\n",
                "- [x] A machine learning model trained on large text datasets\n",
                "- [ ] A voice assistant\n",
                "\n",
                "### 2. Why do we clean data before using LLMs?\n",
                "- [x] To improve results and avoid errors\n",
                "- [ ] To make it look pretty\n",
                "- [ ] It's not necessary\n",
                "\n",
                "### 3. Which Python library is used for plotting?\n",
                "- [ ] seaborn\n",
                "- [x] matplotlib\n",
                "- [ ] numpy"
            ]
        }
    ],
    "metadata": {
        "kernelspec": {
            "display_name": "Python 3",
            "language": "python",
            "name": "python3"
        },
        "language_info": {
            "name": "python",
            "version": "3.10"
        }
    },
    "nbformat": 4,
    "nbformat_minor": 5
}
