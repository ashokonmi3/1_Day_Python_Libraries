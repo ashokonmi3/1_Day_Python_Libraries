{
 "cells": [
  {
   "cell_type": "markdown",
   "metadata": {},
   "source": [
    "# 📊 Introduction to Seaborn: histplot, countplot, boxplot\n",
    "\n",
    "## 📚 Theory: What is Seaborn?\n",
    "- Seaborn is a Python library built on top of matplotlib to make beautiful statistical plots easily.\n",
    "- It simplifies complex visualizations and provides great default styles.\n",
    "- Common Seaborn plots include:\n",
    "  - **histplot**: Shows distribution of numerical data as histogram bars.\n",
    "  - **countplot**: Shows counts of categorical data.\n",
    "  - **boxplot**: Shows distribution summary of numerical data (median, quartiles, outliers).\n",
    "\n",
    "Let's learn these plots with easy examples! 🚀"
   ]
  },
  {
   "cell_type": "markdown",
   "metadata": {},
   "source": [
    "## 1️⃣ histplot: Visualizing distribution of numerical data\n",
    "- Histograms split numerical data into bins and show frequency.\n",
    "- Useful for understanding data spread and shape."
   ]
  },
  {
   "cell_type": "code",
   "execution_count": 1,
   "metadata": {},
   "outputs": [
    {
     "data": {
      "image/png": "[encoded data removed]",
      "text/plain": [
       "<Figure size 640x480 with 1 Axes>"
      ]
     },
     "metadata": {},
     "output_type": "display_data"
    }
   ],
   "source": [
    "import seaborn as sns\n",
    "import matplotlib.pyplot as plt\n",
    "\n",
    "# Sample data: Ages of 30 people\n",
    "ages = [22, 25, 30, 35, 40, 45, 22, 25, 29, 30, 32, 31, 40, 41, 42, 50, 55, 60, 22, 23, 27, 29, 33, 35, 37, 40, 43, 45, 48, 50]\n",
    "\n",
    "# Create histogram with seaborn\n",
    "sns.histplot(ages, bins=6, color='skyblue')\n",
    "\n",
    "plt.title('Age Distribution')\n",
    "plt.xlabel('Age')\n",
    "plt.ylabel('Frequency')\n",
    "plt.show()"
   ]
  },
  {
   "cell_type": "markdown",
   "metadata": {},
   "source": [
    "**Explanation:**\n",
    "- `histplot` divides ages into 6 bins (groups) and counts how many ages fall in each bin.\n",
    "- The height of bars shows frequency (count).\n",
    "- Color and titles make the plot clearer."
   ]
  },
  {
   "cell_type": "markdown",
   "metadata": {},
   "source": [
    "## 2️⃣ countplot: Visualizing count of categorical data\n",
    "- Shows counts of each category in a categorical variable.\n",
    "- Useful to see the popularity or frequency of categories."
   ]
  },
  {
   "cell_type": "code",
   "execution_count": 2,
   "metadata": {},
   "outputs": [
    {
     "name": "stderr",
     "output_type": "stream",
     "text": [
      "C:\\Users\\91973\\AppData\\Local\\Temp\\ipykernel_23880\\1255810813.py:6: FutureWarning: \n",
      "\n",
      "Passing `palette` without assigning `hue` is deprecated and will be removed in v0.14.0. Assign the `x` variable to `hue` and set `legend=False` for the same effect.\n",
      "\n",
      "  sns.countplot(x=fruits, palette='pastel')\n"
     ]
    },
    {
     "data": {
      "image/png": "[encoded data removed]",
      "text/plain": [
       "<Figure size 640x480 with 1 Axes>"
      ]
     },
     "metadata": {},
     "output_type": "display_data"
    }
   ],
   "source": [
    "# Sample data: Favorite fruits of 20 people\n",
    "fruits = ['Apple', 'Banana', 'Apple', 'Orange', 'Banana', 'Apple', 'Apple', 'Orange', 'Banana', 'Banana',\n",
    "          'Orange', 'Apple', 'Banana', 'Apple', 'Orange', 'Banana', 'Apple', 'Banana', 'Orange', 'Apple']\n",
    "\n",
    "# Create countplot\n",
    "sns.countplot(x=fruits, palette='pastel')\n",
    "\n",
    "plt.title('Favorite Fruits Count')\n",
    "plt.xlabel('Fruit')\n",
    "plt.ylabel('Count')\n",
    "plt.show()"
   ]
  },
  {
   "cell_type": "markdown",
   "metadata": {},
   "source": [
    "**Explanation:**\n",
    "- `countplot` counts how many times each fruit appears.\n",
    "- Bars show these counts.\n",
    "- Palette changes bar colors for better visuals."
   ]
  },
  {
   "cell_type": "markdown",
   "metadata": {},
   "source": [
    "## 3️⃣ boxplot: Visualizing distribution summary of numerical data\n",
    "- Shows median, quartiles, and outliers of data.\n",
    "- Useful to understand spread, central tendency, and detect outliers."
   ]
  },
  {
   "cell_type": "code",
   "execution_count": null,
   "metadata": {},
   "outputs": [],
   "source": [
    "# Sample data: Test scores of students in two classes\n",
    "scores_class_A = [55, 67, 45, 70, 72, 60, 59, 90, 85, 78]\n",
    "scores_class_B = [48, 52, 58, 55, 60, 62, 65, 70, 72, 75]\n",
    "\n",
    "# Combine data into one list with class labels\n",
    "scores = scores_class_A + scores_class_B\n",
    "classes = ['Class A']*len(scores_class_A) + ['Class B']*len(scores_class_B)\n",
    "\n",
    "import pandas as pd\n",
    "df = pd.DataFrame({'Class': classes, 'Score': scores})\n",
    "\n",
    "# Create boxplot\n",
    "sns.boxplot(x='Class', y='Score', data=df, palette='Set2')\n",
    "\n",
    "plt.title('Test Scores Distribution by Class')\n",
    "plt.show()"
   ]
  },
  {
   "cell_type": "markdown",
   "metadata": {},
   "source": [
    "**Explanation:**\n",
    "- Each box shows the distribution of scores in each class.\n",
    "- The middle line is the median score.\n",
    "- The box edges are the 25th and 75th percentiles (quartiles).\n",
    "- Whiskers show range excluding outliers (dots).\n",
    "- Helps compare classes easily."
   ]
  },
  {
   "cell_type": "markdown",
   "metadata": {},
   "source": [
    "## 🎯 Tasks for Students\n",
    "\n",
    "1. Use `histplot` to visualize distribution of the following data: `[10, 12, 15, 18, 20, 22, 24, 27, 30, 35]`\n",
    "2. Create a `countplot` for favorite colors: `['Red', 'Blue', 'Red', 'Green', 'Blue', 'Blue', 'Red', 'Green']`\n",
    "3. Create a boxplot for two groups of heights:\n",
    "   - Group 1: `[150, 160, 165, 170, 155]`\n",
    "   - Group 2: `[140, 155, 160, 165, 150]`\n",
    "4. Add titles and axis labels to your plots.\n",
    "\n",
    "Comment your code to explain what you are doing! 📝"
   ]
  },
  {
   "cell_type": "markdown",
   "metadata": {},
   "source": [
    "## ✅ MCQs\n",
    "\n",
    "<span style='color:green;font-weight:bold;'>Q1:</span> Which seaborn function is used to plot the distribution of numerical data?\n",
    "\n",
    "- a) `sns.countplot()` ❌\n",
    "- b) `sns.histplot()` ✅ ✔️\n",
    "- c) `sns.boxplot()` ❌\n",
    "- d) `sns.lineplot()` ❌\n",
    "\n",
    "<span style='color:green;font-weight:bold;'>Q2:</span> What does a boxplot show?\n",
    "- a) Only the mean value ❌\n",
    "- b) Median, quartiles, and outliers of data ✅ ✔️\n",
    "- c) Counts of categories ❌\n",
    "- d) Data points connected with a line ❌\n",
    "\n",
    "<span style='color:green;font-weight:bold;'>Q3:</span> Which function is used to plot counts of categorical data?\n",
    "- a) `sns.histplot()` ❌\n",
    "- b) `sns.boxplot()` ❌\n",
    "- c) `sns.countplot()` ✅ ✔️\n",
    "- d) `sns.scatterplot()` ❌\n"
   ]
  }
 ],
 "metadata": {
  "kernelspec": {
   "display_name": "Python 3",
   "language": "python",
   "name": "python3"
  },
  "language_info": {
   "codemirror_mode": {
    "name": "ipython",
    "version": 3
   },
   "file_extension": ".py",
   "mimetype": "text/x-python",
   "name": "python",
   "nbconvert_exporter": "python",
   "pygments_lexer": "ipython3",
   "version": "3.12.0"
  }
 },
 "nbformat": 4,
 "nbformat_minor": 5
}
