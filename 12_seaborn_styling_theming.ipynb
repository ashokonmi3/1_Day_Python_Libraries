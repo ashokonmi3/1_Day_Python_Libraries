{
 "cells": [
  {
   "cell_type": "markdown",
   "metadata": {},
   "source": [
    "# 🎨 Styling and Theming Seaborn Plots\n",
    "\n",
    "## 📚 Theory: What is Styling and Theming?\n",
    "- Seaborn provides **styles** and **color palettes** to make your plots look nicer and more readable.\n",
    "- Styling controls background, grid lines, and overall look.\n",
    "- Theming changes colors used in plots.\n",
    "- These features help create professional and visually appealing graphs easily.\n",
    "\n",
    "### Common Seaborn styles:\n",
    "- `darkgrid` (default): gray background with grid lines\n",
    "- `whitegrid`: white background with grid lines\n",
    "- `dark`: dark background, no grid\n",
    "- `white`: white background, no grid\n",
    "- `ticks`: ticks on axes, clean background\n",
    "\n",
    "### Color palettes:\n",
    "- Predefined color sets to apply to bars, lines, points.\n",
    "- Examples: `deep`, `pastel`, `muted`, `bright`, `dark`, `colorblind`"
   ]
  },
  {
   "cell_type": "markdown",
   "metadata": {},
   "source": [
    "## 1️⃣ Using different seaborn styles\n",
    "- Use `sns.set_style()` to change plot style."
   ]
  },
  {
   "cell_type": "code",
   "metadata": {},
   "source": [
    "import seaborn as sns\n",
    "import matplotlib.pyplot as plt\n",
    "\n",
    "# Sample data\n",
    "data = [5, 10, 15, 20, 25, 30, 35]\n",
    "\n",
    "styles = ['darkgrid', 'whitegrid', 'dark', 'white', 'ticks']\n",
    "\n",
    "for style in styles:\n",
    "    sns.set_style(style)  # Set the style\n",
    "    plt.figure(figsize=(6,3))\n",
    "    sns.lineplot(x=range(len(data)), y=data, marker='o')\n",
    "    plt.title(f'Style: {style}')\n",
    "    plt.show()"
   ]
  },
  {
   "cell_type": "markdown",
   "metadata": {},
   "source": [
    "**Explanation:**\n",
    "- This code loops through common seaborn styles.\n",
    "- Each plot shows how the background and grid lines change with style.\n",
    "- Helps decide which style looks best for your data."
   ]
  },
  {
   "cell_type": "markdown",
   "metadata": {},
   "source": [
    "## 2️⃣ Using color palettes to change plot colors\n",
    "- Use `palette` parameter in seaborn functions to change colors.\n",
    "- Use `sns.color_palette()` to see colors in palettes."
   ]
  },
  {
   "cell_type": "code",
   "metadata": {},
   "source": [
    "# Sample categorical data\n",
    "fruits = ['Apple', 'Banana', 'Apple', 'Orange', 'Banana', 'Apple', 'Orange', 'Orange', 'Banana']\n",
    "\n",
    "# Different palettes to try\n",
    "palettes = ['deep', 'pastel', 'muted', 'bright', 'dark', 'colorblind']\n",
    "\n",
    "for pal in palettes:\n",
    "    plt.figure(figsize=(6,3))\n",
    "    sns.countplot(x=fruits, palette=pal)\n",
    "    plt.title(f'Palette: {pal}')\n",
    "    plt.show()"
   ]
  },
  {
   "cell_type": "markdown",
   "metadata": {},
   "source": [
    "**Explanation:**\n",
    "- Each countplot shows same data but with different color themes.\n",
    "- Palettes improve readability and aesthetics.\n",
    "- `colorblind` palette is designed to be accessible for colorblind people."
   ]
  },
  {
   "cell_type": "markdown",
   "metadata": {},
   "source": [
    "## 3️⃣ Combining style and palette\n",
    "- You can combine style and palette to get custom look."
   ]
  },
  {
   "cell_type": "code",
   "metadata": {},
   "source": [
    "sns.set_style('whitegrid')\n",
    "plt.figure(figsize=(6,4))\n",
    "sns.countplot(x=fruits, palette='pastel')\n",
    "plt.title('Whitegrid style with Pastel palette')\n",
    "plt.show()"
   ]
  },
  {
   "cell_type": "markdown",
   "metadata": {},
   "source": [
    "## 🎯 Tasks for Students\n",
    "1. Create a line plot of numbers `[3, 6, 9, 12, 15]` using `dark` style.\n",
    "2. Make a countplot for `['Cat', 'Dog', 'Cat', 'Bird', 'Dog', 'Dog']` with `bright` palette.\n",
    "3. Experiment by changing styles (`ticks`, `white`) and palettes (`muted`, `deep`) and observe changes.\n",
    "4. Add titles to all your plots."
   ]
  },
  {
   "cell_type": "markdown",
   "metadata": {},
   "source": [
    "## ✅ MCQs\n",
    "\n",
    "<span style='color:green;font-weight:bold;'>Q1:</span> Which function sets the style of seaborn plots?\n",
    "- a) `sns.set_palette()` ❌\n",
    "- b) `sns.set_style()` ✅ ✔️\n",
    "- c) `sns.style()` ❌\n",
    "- d) `sns.style_set()` ❌\n",
    "\n",
    "<span style='color:green;font-weight:bold;'>Q2:</span> Which style adds grid lines on a white background?\n",
    "- a) `darkgrid` ❌\n",
    "- b) `whitegrid` ✅ ✔️\n",
    "- c) `dark` ❌\n",
    "- d) `ticks` ❌\n",
    "\n",
    "<span style='color:green;font-weight:bold;'>Q3:</span> What does a color palette affect?\n",
    "- a) Background color ❌\n",
    "- b) Grid lines ❌\n",
    "- c) Colors of plot elements like bars and lines ✅ ✔️\n",
    "- d) Axis labels ❌\n"
   ]
  }
 ],
 "metadata": {
  "kernelspec": {
   "display_name": "Python 3",
   "language": "python",
   "name": "python3"
  },
  "language_info": {
   "name": "python",
   "version": "3.x"
  }
 },
 "nbformat": 4,
 "nbformat_minor": 5
}
