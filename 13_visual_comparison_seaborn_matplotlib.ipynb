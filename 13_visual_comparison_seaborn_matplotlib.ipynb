{
 "cells": [
  {
   "cell_type": "markdown",
   "metadata": {},
   "source": [
    "# 📊 Visual Comparison: Seaborn vs Matplotlib\n",
    "\n",
    "## 📚 Theory\n",
    "- Both **Matplotlib** and **Seaborn** are Python libraries used for data visualization.\n",
    "- **Matplotlib** is a low-level library, giving you full control but requires more code for styling.\n",
    "- **Seaborn** is built on top of Matplotlib and provides easy-to-use, attractive default styles.\n",
    "- Seaborn simplifies complex visualizations and is good for statistical plots.\n",
    "- Understanding both helps choose the right tool for your needs."
   ]
  },
  {
   "cell_type": "markdown",
   "metadata": {},
   "source": [
    "## 1️⃣ Simple Line Plot\n",
    "\n",
    "**Matplotlib:**\n"
   ]
  },
  {
   "cell_type": "code",
   "metadata": {},
   "source": [
    "# Matplotlib line plot example\n",
    "import matplotlib.pyplot as plt\n",
    "\n",
    "x = [1, 2, 3, 4, 5]\n",
    "y = [2, 3, 5, 7, 11]\n",
    "\n",
    "plt.plot(x, y, marker='o', linestyle='-', color='blue')  # plot with points and line\n",
    "plt.title('Matplotlib Line Plot')\n",
    "plt.xlabel('X axis')\n",
    "plt.ylabel('Y axis')\n",
    "plt.grid(True)\n",
    "plt.show()"
   ]
  },
  {
   "cell_type": "markdown",
   "metadata": {},
   "source": [
    "**Seaborn:**\n"
   ]
  },
  {
   "cell_type": "code",
   "metadata": {},
   "source": [
    "# Seaborn line plot example\n",
    "import seaborn as sns\n",
    "import pandas as pd\n",
    "\n",
    "# Prepare data in a DataFrame (Seaborn prefers this)\n",
    "df = pd.DataFrame({'X': x, 'Y': y})\n",
    "\n",
    "sns.lineplot(data=df, x='X', y='Y', marker='o', color='blue')\n",
    "plt.title('Seaborn Line Plot')\n",
    "plt.show()"
   ]
  },
  {
   "cell_type": "markdown",
   "metadata": {},
   "source": [
    "---\n",
    "## 2️⃣ Simple Bar Plot\n",
    "\n",
    "**Matplotlib:**\n"
   ]
  },
  {
   "cell_type": "code",
   "metadata": {},
   "source": [
    "# Matplotlib bar plot example\n",
    "categories = ['A', 'B', 'C', 'D']\n",
    "values = [5, 7, 3, 8]\n",
    "\n",
    "plt.bar(categories, values, color='orange')\n",
    "plt.title('Matplotlib Bar Plot')\n",
    "plt.xlabel('Categories')\n",
    "plt.ylabel('Values')\n",
    "plt.show()"
   ]
  },
  {
   "cell_type": "markdown",
   "metadata": {},
   "source": [
    "**Seaborn:**\n"
   ]
  },
  {
   "cell_type": "code",
   "metadata": {},
   "source": [
    "# Seaborn bar plot example\n",
    "df_bar = pd.DataFrame({'Category': categories, 'Value': values})\n",
    "sns.barplot(data=df_bar, x='Category', y='Value', color='orange')\n",
    "plt.title('Seaborn Bar Plot')\n",
    "plt.show()"
   ]
  },
  {
   "cell_type": "markdown",
   "metadata": {},
   "source": [
    "---\n",
    "## 3️⃣ Scatter Plot\n",
    "\n",
    "**Matplotlib:**\n"
   ]
  },
  {
   "cell_type": "code",
   "metadata": {},
   "source": [
    "# Matplotlib scatter plot\n",
    "x_scatter = [1, 2, 3, 4, 5]\n",
    "y_scatter = [5, 7, 6, 8, 7]\n",
    "\n",
    "plt.scatter(x_scatter, y_scatter, color='green')\n",
    "plt.title('Matplotlib Scatter Plot')\n",
    "plt.xlabel('X')\n",
    "plt.ylabel('Y')\n",
    "plt.show()"
   ]
  },
  {
   "cell_type": "markdown",
   "metadata": {},
   "source": [
    "**Seaborn:**\n"
   ]
  },
  {
   "cell_type": "code",
   "metadata": {},
   "source": [
    "# Seaborn scatter plot\n",
    "df_scatter = pd.DataFrame({'X': x_scatter, 'Y': y_scatter})\n",
    "sns.scatterplot(data=df_scatter, x='X', y='Y', color='green')\n",
    "plt.title('Seaborn Scatter Plot')\n",
    "plt.show()"
   ]
  },
  {
   "cell_type": "markdown",
   "metadata": {},
   "source": [
    "---\n",
    "## ✍️ Summary:\n",
    "- **Matplotlib** needs more manual commands but is very flexible.\n",
    "- **Seaborn** makes common plots easier and prettier with fewer lines of code.\n",
    "- Seaborn expects data in DataFrames; Matplotlib works well with lists or arrays.\n",
    "- For quick, clean visuals, Seaborn is great; for detailed customizations, Matplotlib is ideal.\n"
   ]
  },
  {
   "cell_type": "markdown",
   "metadata": {},
   "source": [
    "## 🎯 Tasks for Students\n",
    "1. Create a Matplotlib line plot for values `[10, 20, 15, 30, 25]`.\n",
    "2. Create a Seaborn bar plot for categories `['X', 'Y', 'Z']` with values `[7, 3, 9]`.\n",
    "3. Make a scatter plot using Seaborn with points `(1,3), (2,6), (3,9)`.\n",
    "4. Try changing colors and markers in Matplotlib and Seaborn plots.\n",
    "5. Add titles and axis labels to all your plots."
   ]
  },
  {
   "cell_type": "markdown",
   "metadata": {},
   "source": [
    "## ✅ MCQs\n",
    "\n",
    "<span style='color:green;font-weight:bold;'>Q1:</span> Which library provides prettier default styles with less code?\n",
    "- a) Matplotlib ❌\n",
    "- b) Seaborn ✅ ✔️\n",
    "- c) Pandas ❌\n",
    "- d) Numpy ❌\n",
    "\n",
    "<span style='color:green;font-weight:bold;'>Q2:</span> Seaborn plots usually require data in which format?\n",
    "- a) List ❌\n",
    "- b) Dictionary ❌\n",
    "- c) DataFrame ✅ ✔️\n",
    "- d) Tuple ❌\n",
    "\n",
    "<span style='color:green;font-weight:bold;'>Q3:</span> Which library gives more manual control over plots?\n",
    "- a) Seaborn ❌\n",
    "- b) Matplotlib ✅ ✔️\n",
    "- c) Scikit-learn ❌\n",
    "- d) TensorFlow ❌\n"
   ]
  }
 ],
 "metadata": {
  "kernelspec": {
   "display_name": "Python 3",
   "language": "python",
   "name": "python3"
  },
  "language_info": {
   "name": "python",
   "version": "3.x"
  }
 },
 "nbformat": 4,
 "nbformat_minor": 5
}
