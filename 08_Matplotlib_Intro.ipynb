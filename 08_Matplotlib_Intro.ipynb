{
 "cells": [
  {
   "cell_type": "markdown",
   "metadata": {},
   "source": [
    "# 📊 matplotlib Basics\n",
    "\n",
    "## 🚀 Introduction\n",
    "\n",
    "matplotlib is a popular Python library used for creating visualizations like charts and graphs. It helps us understand data better by showing it visually. 👀\n",
    "\n",
    "### Common plot types:\n",
    "- **Bar Plot** 📊: Shows data as bars. Useful to compare categories.\n",
    "- **Line Plot** 📈: Connects data points with a line. Good for trends over time.\n",
    "- **Scatter Plot** 🔴: Shows points for pairs of values. Good for seeing relationships.\n",
    "\n",
    "### Visual summary:\n",
    "\n",
    "```\n",
    "Bar Plot:      |■■■■■■■■|    |■■■■■■■■■■■■|    |■■■■■■■|    |■■|\n",
    "Line Plot:     •———•————•————•————•————•\n",
    "Scatter Plot:  •    •      •    •       •\n",
    "```\n",
    "\n",
    "Let's learn how to create these basic plots! 🎉"
   ]
  },
  {
   "cell_type": "markdown",
   "metadata": {},
   "source": [
    "## 🛠️ Setup\n",
    "Import matplotlib and prepare to plot."
   ]
  },
  {
   "cell_type": "code",
   "execution_count": 1,
   "metadata": {},
   "outputs": [
    {
     "name": "stderr",
     "output_type": "stream",
     "text": [
      "UsageError: unrecognized arguments: # This makes plots appear inside the notebook\n"
     ]
    }
   ],
   "source": [
    "import matplotlib.pyplot as plt\n",
    "%matplotlib inline  # This makes plots appear inside the notebook"
   ]
  },
  {
   "cell_type": "markdown",
   "metadata": {},
   "source": [
    "## 1️⃣ Bar Plot 📊\n",
    "\n",
    "A bar plot shows data with rectangular bars. The length of the bar shows the value.\n",
    "\n",
    "Example: Compare sales of different products."
   ]
  },
  {
   "cell_type": "code",
   "execution_count": 2,
   "metadata": {},
   "outputs": [
    {
     "name": "stderr",
     "output_type": "stream",
     "text": [
      "C:\\Users\\91973\\AppData\\Roaming\\Python\\Python312\\site-packages\\IPython\\core\\pylabtools.py:170: UserWarning: Glyph 128722 (\\N{SHOPPING TROLLEY}) missing from font(s) DejaVu Sans.\n",
      "  fig.canvas.print_figure(bytes_io, **kw)\n",
      "C:\\Users\\91973\\AppData\\Roaming\\Python\\Python312\\site-packages\\IPython\\core\\pylabtools.py:170: UserWarning: Glyph 127822 (\\N{RED APPLE}) missing from font(s) DejaVu Sans.\n",
      "  fig.canvas.print_figure(bytes_io, **kw)\n",
      "C:\\Users\\91973\\AppData\\Roaming\\Python\\Python312\\site-packages\\IPython\\core\\pylabtools.py:170: UserWarning: Glyph 127820 (\\N{BANANA}) missing from font(s) DejaVu Sans.\n",
      "  fig.canvas.print_figure(bytes_io, **kw)\n",
      "C:\\Users\\91973\\AppData\\Roaming\\Python\\Python312\\site-packages\\IPython\\core\\pylabtools.py:170: UserWarning: Glyph 127826 (\\N{CHERRIES}) missing from font(s) DejaVu Sans.\n",
      "  fig.canvas.print_figure(bytes_io, **kw)\n",
      "C:\\Users\\91973\\AppData\\Roaming\\Python\\Python312\\site-packages\\IPython\\core\\pylabtools.py:170: UserWarning: Glyph 127796 (\\N{PALM TREE}) missing from font(s) DejaVu Sans.\n",
      "  fig.canvas.print_figure(bytes_io, **kw)\n"
     ]
    },
    {
     "data": {
      "image/png": "[encoded data removed]",
      "text/plain": [
       "<Figure size 640x480 with 1 Axes>"
      ]
     },
     "metadata": {},
     "output_type": "display_data"
    }
   ],
   "source": [
    "# Data for plotting\n",
    "products = ['Apples 🍎', 'Bananas 🍌', 'Cherries 🍒', 'Dates 🌴']\n",
    "sales = [25, 40, 30, 10]\n",
    "\n",
    "# Create a bar plot\n",
    "plt.bar(products, sales, color='skyblue')\n",
    "plt.title('Sales of Products 🛒')  # Title of the plot\n",
    "plt.xlabel('Products')  # Label x-axis\n",
    "plt.ylabel('Number Sold')  # Label y-axis\n",
    "plt.show()"
   ]
  },
  {
   "cell_type": "markdown",
   "metadata": {},
   "source": [
    "**Explanation:**\n",
    "- `plt.bar()` creates a bar plot.\n",
    "- `products` are categories on x-axis.\n",
    "- `sales` values are heights of bars.\n",
    "- Labels and title help understand the plot. 📋"
   ]
  },
  {
   "cell_type": "markdown",
   "metadata": {},
   "source": [
    "## 2️⃣ Line Plot 📈\n",
    "\n",
    "A line plot connects points with a line, showing trends over time or sequence.\n",
    "\n",
    "Example: Temperature over 7 days."
   ]
  },
  {
   "cell_type": "code",
   "execution_count": null,
   "metadata": {},
   "outputs": [],
   "source": [
    "# Data\n",
    "days = [1, 2, 3, 4, 5, 6, 7]\n",
    "temperature = [22, 24, 19, 23, 25, 21, 20]\n",
    "\n",
    "# Create line plot\n",
    "plt.plot(days, temperature, marker='o', color='green')\n",
    "plt.title('Temperature Over 7 Days 🌡️')\n",
    "plt.xlabel('Day')\n",
    "plt.ylabel('Temperature (°C)')\n",
    "plt.grid(True)  # Adds grid lines\n",
    "plt.show()"
   ]
  },
  {
   "cell_type": "markdown",
   "metadata": {},
   "source": [
    "**Explanation:**\n",
    "- `plt.plot()` creates a line plot.\n",
    "- `marker='o'` shows points as circles ⚪.\n",
    "- `plt.grid(True)` adds grid lines for easier reading. 📐"
   ]
  },
  {
   "cell_type": "markdown",
   "metadata": {},
   "source": [
    "## 3️⃣ Scatter Plot 🔴\n",
    "\n",
    "Scatter plots show individual points to explore relationships between two variables.\n",
    "\n",
    "Example: Study hours vs exam scores."
   ]
  },
  {
   "cell_type": "code",
   "execution_count": null,
   "metadata": {},
   "outputs": [],
   "source": [
    "# Data\n",
    "study_hours = [1, 2, 3, 4, 5, 6, 7]\n",
    "exam_scores = [50, 55, 65, 70, 75, 80, 85]\n",
    "\n",
    "# Create scatter plot\n",
    "plt.scatter(study_hours, exam_scores, color='red')\n",
    "plt.title('Study Hours vs Exam Scores 📚')\n",
    "plt.xlabel('Hours Studied ⏰')\n",
    "plt.ylabel('Exam Score 📝')\n",
    "plt.show()"
   ]
  },
  {
   "cell_type": "markdown",
   "metadata": {},
   "source": [
    "**Explanation:**\n",
    "- `plt.scatter()` plots individual points.\n",
    "- Each point represents hours studied and corresponding exam score.\n",
    "- This helps see if more study correlates with better scores. 🔍"
   ]
  },
  {
   "cell_type": "markdown",
   "metadata": {},
   "source": [
    "## 🎯 Tasks for Students\n",
    "\n",
    "1. Create a bar plot for the following data: \n",
    "   - Fruits: Mango 🥭, Orange 🍊, Grapes 🍇\n",
    "   - Quantity Sold: 15, 30, 25\n",
    "\n",
    "2. Make a line plot showing number of visitors to a website over 5 days: [120, 150, 170, 140, 180]\n",
    "\n",
    "3. Plot a scatter plot showing the relationship between hours of sleep and concentration level:\n",
    "   - Hours of sleep: [4, 5, 6, 7, 8]\n",
    "   - Concentration level: [60, 65, 70, 80, 85]\n",
    "\n",
    "Try to add titles and labels to your plots! 🖊️"
   ]
  },
  {
   "cell_type": "markdown",
   "metadata": {},
   "source": [
    "## ✅ MCQs\n",
    "\n",
    "**Q1:** Which matplotlib function is used to create a bar plot?\n",
    "- a) plt.line() ❌\n",
    "- b) plt.bar() ✅ ✔️\n",
    "- c) plt.scatter() ❌\n",
    "- d) plt.plot() ❌\n",
    "\n",
    "---\n",
    "\n",
    "**Q2:** What does a scatter plot show?\n",
    "- a) Trends over time ❌\n",
    "- b) Relationships between two variables ✅ ✔️\n",
    "- c) Amounts in categories ❌\n",
    "- d) None of the above ❌\n",
    "\n",
    "---\n",
    "\n",
    "**Q3:** Which parameter in `plt.plot()` adds markers on data points?\n",
    "- a) color ❌\n",
    "- b) marker ✅ ✔️\n",
    "- c) label ❌\n",
    "- d) linestyle ❌\n",
    "\n",
    "---\n",
    "\n",
    "**Q4:** What is the main use of a line plot?\n",
    "- a) Show counts per category ❌\n",
    "- b) Show trends over time or sequence ✅ ✔️\n",
    "- c) Show distribution of data ❌\n",
    "- d) Show relationships between variables ❌\n"
   ]
  }
 ],
 "metadata": {
  "kernelspec": {
   "display_name": "Python 3",
   "language": "python",
   "name": "python3"
  },
  "language_info": {
   "codemirror_mode": {
    "name": "ipython",
    "version": 3
   },
   "file_extension": ".py",
   "mimetype": "text/x-python",
   "name": "python",
   "nbconvert_exporter": "python",
   "pygments_lexer": "ipython3",
   "version": "3.12.0"
  }
 },
 "nbformat": 4,
 "nbformat_minor": 5
}
