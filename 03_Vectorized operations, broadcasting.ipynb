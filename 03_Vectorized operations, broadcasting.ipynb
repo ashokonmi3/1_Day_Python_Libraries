{
 "cells": [
  {
   "cell_type": "markdown",
   "id": "58fa574e",
   "metadata": {},
   "source": [
    "# NumPy: Vectorized Operations and Broadcasting\n",
    "\n",
    "This lesson covers:\n",
    "- What are vectorized operations?\n",
    "- Why they are useful.\n",
    "- What is broadcasting and how it works.\n",
    "- Multiple examples with easy explanations.\n",
    "- Practice tasks and simple quizzes."
   ]
  },
  {
   "cell_type": "markdown",
   "id": "359c4b02",
   "metadata": {},
   "source": [
    "## 1. What are Vectorized Operations?\n",
    "\n",
    "### Explanation:\n",
    "- Normally in Python, if you want to add two lists element-wise, you would write a loop that adds one element at a time.\n",
    "- This is slow and verbose.\n",
    "- NumPy allows you to perform operations on entire arrays **all at once** without writing loops — this is called **vectorization**.\n",
    "- Vectorized operations are faster and use optimized C code internally."
   ]
  },
  {
   "cell_type": "code",
   "execution_count": null,
   "id": "9bd49b8e",
   "metadata": {},
   "outputs": [],
   "source": [
    "# Example 1: Adding two lists with a loop (slow and verbose)\n",
    "list1 = [1, 2, 3]\n",
    "list2 = [4, 5, 6]\n",
    "result = []\n",
    "for i in range(len(list1)):\n",
    "    result.append(list1[i] + list2[i])\n",
    "print(\"Result using loop:\", result)\n",
    "\n",
    "# Example 2: Adding two numpy arrays (vectorized operation)\n",
    "import numpy as np\n",
    "arr1 = np.array([1, 2, 3])\n",
    "arr2 = np.array([4, 5, 6])\n",
    "result_np = arr1 + arr2  # adds element-wise automatically\n",
    "print(\"Result using numpy vectorized addition:\", result_np)"
   ]
  },
  {
   "cell_type": "markdown",
   "id": "0dec72b1",
   "metadata": {},
   "source": [
    "## 2. Advantages of Vectorized Operations\n",
    "- Less code to write.\n",
    "- Code is easier to read and maintain.\n",
    "- Much faster execution, especially on large data.\n",
    "- Works with many operators (`+`, `-`, `*`, `/`) and functions (`np.sqrt`, `np.sin`, etc.)."
   ]
  },
  {
   "cell_type": "markdown",
   "id": "dd6e0c7c",
   "metadata": {},
   "source": [
    "## 3. More Vectorized Examples\n",
    "\n",
    "Let's see some more vectorized operations with explanations:"
   ]
  },
  {
   "cell_type": "code",
   "execution_count": null,
   "id": "ad50ebf3",
   "metadata": {},
   "outputs": [],
   "source": [
    "a = np.array([10, 20, 30])\n",
    "b = np.array([1, 2, 3])\n",
    "\n",
    "# Subtraction\n",
    "print(\"a - b:\", a - b)  # [9, 18, 27]\n",
    "\n",
    "# Multiplication\n",
    "print(\"a * b:\", a * b)  # [10, 40, 90]\n",
    "\n",
    "# Division\n",
    "print(\"a / b:\", a / b)  # [10. 10. 10.]\n",
    "\n",
    "# Power\n",
    "print(\"b squared:\", b ** 2)  # [1, 4, 9]\n",
    "\n",
    "# Using numpy functions (vectorized)\n",
    "print(\"Square root of a:\", np.sqrt(a))  # [3.162..., 4.472..., 5.477...]"
   ]
  },
  {
   "cell_type": "markdown",
   "id": "9b661cda",
   "metadata": {},
   "source": [
    "## 4. What is Broadcasting?\n",
    "\n",
    "- Broadcasting lets you perform operations between arrays with **different shapes**.\n",
    "- Smaller arrays are automatically \"stretched\" (without copying data) to match the shape of larger arrays.\n",
    "- This means you don't have to manually reshape arrays for element-wise operations.\n",
    "\n",
    "### When does broadcasting work?\n",
    "- When dimensions are compatible:\n",
    "  - Dimensions are equal, or\n",
    "  - One of them is 1."
   ]
  },
  {
   "cell_type": "markdown",
   "id": "2a74d9fa",
   "metadata": {},
   "source": [
    "### Example: Add 1D array to each row of 2D array"
   ]
  },
  {
   "cell_type": "code",
   "execution_count": null,
   "id": "28f74bee",
   "metadata": {},
   "outputs": [],
   "source": [
    "# 2D array: 3 rows, 3 columns\n",
    "matrix = np.array([[1, 2, 3],\n",
    "                   [4, 5, 6],\n",
    "                   [7, 8, 9]])\n",
    "\n",
    "# 1D array: shape (3,)\n",
    "row_vector = np.array([10, 20, 30])\n",
    "\n",
    "# Add row_vector to each row of matrix using broadcasting\n",
    "result = matrix + row_vector\n",
    "print(\"Original matrix:\\n\", matrix)\n",
    "print(\"Row vector to add:\", row_vector)\n",
    "print(\"Result after broadcasting addition:\\n\", result)"
   ]
  },
  {
   "cell_type": "markdown",
   "id": "0d2c3c52",
   "metadata": {},
   "source": [
    "### Explanation:\n",
    "- `row_vector` shape is `(3,)`\n",
    "- `matrix` shape is `(3, 3)`\n",
    "- NumPy broadcasts `row_vector` over each of the 3 rows in `matrix` to add element-wise."
   ]
  },
  {
   "cell_type": "markdown",
   "id": "e8a21fc2",
   "metadata": {},
   "source": [
    "## 5. More Broadcasting Examples\n",
    "\n",
    "Try these simple cases and see how broadcasting works:"
   ]
  },
  {
   "cell_type": "code",
   "execution_count": null,
   "id": "9f454ad7",
   "metadata": {},
   "outputs": [],
   "source": [
    "# Example 1: Add a scalar to a 1D array\n",
    "arr = np.array([1, 2, 3, 4])\n",
    "print(\"arr + 5:\", arr + 5)  # adds 5 to every element\n",
    "\n",
    "# Example 2: Add a column vector (3x1) to a row vector (1x3)\n",
    "col_vec = np.array([[1], [2], [3]])  # shape (3,1)\n",
    "row_vec = np.array([10, 20, 30])     # shape (3,)\n",
    "result2 = col_vec + row_vec  # broadcasts to (3,3)\n",
    "print(\"col_vec + row_vec =\\n\", result2)"
   ]
  },
  {
   "cell_type": "markdown",
   "id": "2ccd07b1",
   "metadata": {},
   "source": [
    "## 6. Broadcasting Rules Summary\n",
    "\n",
    "1. Start comparing shapes from the last dimension backward.\n",
    "2. Dimensions are compatible if equal or one of them is 1.\n",
    "3. If incompatible, you get an error."
   ]
  },
  {
   "cell_type": "markdown",
   "id": "6fc86170",
   "metadata": {},
   "source": [
    "## 7. Practice Tasks\n",
    "\n",
    "Try to solve these exercises yourself:\n",
    "\n",
    "1. Create arrays `x = [2, 4, 6]` and `y = [1, 3, 5]`. Compute:\n",
    "   - `x + y`\n",
    "   - `x - y`\n",
    "   - `x * y`\n",
    "   - `x / y`\n",
    "\n",
    "2. Create a 2D array of shape (2,3): `[[1,2,3], [4,5,6]]`\n",
    "   Create a 1D array: `[10, 20, 30]`\n",
    "   Add them using broadcasting.\n",
    "\n",
    "3. Multiply each element in `[1,4,9]` by 3 using vectorized operation.\n",
    "\n",
    "4. Create a 3x3 array of ones, and subtract `[1, 2, 3]` from each row.\n",
    "\n",
    "5. Calculate the square root of `[16, 25, 36]` using NumPy functions."
   ]
  },
  {
   "cell_type": "markdown",
   "id": "5178b992",
   "metadata": {},
   "source": [
    "---"
   ]
  },
  {
   "cell_type": "markdown",
   "id": "e79b7f22",
   "metadata": {},
   "source": [
    "## 8. Multiple Choice Questions (MCQs)\n",
    "\n",
    "1. Which of these is a vectorized operation?\n",
    "   - A) Looping through elements to add\n",
    "   - B) `arr1 + arr2` where both are numpy arrays\n",
    "   - C) Using a for loop with Python lists\n",
    "   - D) Using map function on lists\n",
    "\n",
    "2. What is broadcasting in NumPy?\n",
    "   - A) Copying arrays to larger size\n",
    "   - B) Stretching smaller arrays to match larger arrays for element-wise operations\n",
    "   - C) Printing arrays\n",
    "   - D) None of the above\n",
    "\n",
    "3. Which rule must be true for broadcasting to work?\n",
    "   - A) Arrays must have the same number of dimensions\n",
    "   - B) Dimensions must be equal or one must be 1\n",
    "   - C) Arrays must be 1D only\n",
    "   - D) Arrays must be square matrices\n",
    "\n",
    "4. What happens if broadcasting fails?\n",
    "   - A) NumPy performs element-wise operation anyway\n",
    "   - B) You get a ValueError\n",
    "   - C) Arrays are reshaped automatically\n",
    "   - D) Program crashes\n",
    "\n",
    "5. Which operator is vectorized in NumPy?\n",
    "   - A) +\n",
    "   - B) -\n",
    "   - C) *\n",
    "   - D) All of the above\n"
   ]
  }
 ],
 "metadata": {
  "kernelspec": {
   "display_name": "Python 3",
   "language": "python",
   "name": "python3"
  },
  "language_info": {
   "codemirror_mode": {
    "name": "ipython",
    "version": 3
   },
   "file_extension": ".py",
   "mimetype": "text/x-python",
   "name": "python",
   "nbconvert_exporter": "python",
   "pygments_lexer": "ipython3",
   "version": "3.10"
  }
 },
 "nbformat": 4,
 "nbformat_minor": 5
}
